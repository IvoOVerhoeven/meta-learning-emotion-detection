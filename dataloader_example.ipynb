{
 "metadata": {
  "language_info": {
   "codemirror_mode": {
    "name": "ipython",
    "version": 3
   },
   "file_extension": ".py",
   "mimetype": "text/x-python",
   "name": "python",
   "nbconvert_exporter": "python",
   "pygments_lexer": "ipython3",
   "version": "3.8.8"
  },
  "orig_nbformat": 2,
  "kernelspec": {
   "name": "python388jvsc74a57bd05807788318072d650ff7d3f12118168354b5d5c1b01788c0f8c7e03b8ca64544",
   "display_name": "Python 3.8.8 64-bit"
  }
 },
 "nbformat": 4,
 "nbformat_minor": 2,
 "cells": [
  {
   "cell_type": "code",
   "execution_count": 1,
   "metadata": {},
   "outputs": [],
   "source": [
    "from data.unified_emotion.unified_emotion import unified_emotion\n",
    "\n",
    "unified = unified_emotion(\"./data/datasets/unified-dataset.jsonl\")\n",
    "\n",
    "unified.prep()"
   ]
  },
  {
   "cell_type": "code",
   "execution_count": 2,
   "metadata": {},
   "outputs": [
    {
     "output_type": "execute_result",
     "data": {
      "text/plain": [
       "{'grounded_emotions': 2585,\n",
       " 'ssec': 4868,\n",
       " 'crowdflower': 40000,\n",
       " 'dailydialog': 102979,\n",
       " 'tales-emotion': 14771,\n",
       " 'tec': 21051,\n",
       " 'emoint': 7102}"
      ]
     },
     "metadata": {},
     "execution_count": 2
    }
   ],
   "source": [
    "unified.lens()"
   ]
  },
  {
   "cell_type": "code",
   "execution_count": 3,
   "metadata": {},
   "outputs": [
    {
     "output_type": "execute_result",
     "data": {
      "text/plain": [
       "[('grounded_emotions',\n",
       "  <data.unified_emotion.unified_stratified_loader.UnifiedMetaStratifiedLoader at 0x26d39a45070>),\n",
       " ('ssec',\n",
       "  <data.unified_emotion.unified_stratified_loader.UnifiedMetaStratifiedLoader at 0x26d39a458b0>),\n",
       " ('crowdflower',\n",
       "  <data.unified_emotion.unified_stratified_loader.UnifiedMetaStratifiedLoader at 0x26d39a45880>),\n",
       " ('dailydialog',\n",
       "  <data.unified_emotion.unified_stratified_loader.UnifiedMetaStratifiedLoader at 0x26d39a45760>),\n",
       " ('tales-emotion',\n",
       "  <data.unified_emotion.unified_stratified_loader.UnifiedMetaStratifiedLoader at 0x26d39931310>),\n",
       " ('tec',\n",
       "  <data.unified_emotion.unified_stratified_loader.UnifiedMetaStratifiedLoader at 0x26d39931190>),\n",
       " ('emoint',\n",
       "  <data.unified_emotion.unified_stratified_loader.UnifiedMetaStratifiedLoader at 0x26d399316d0>)]"
      ]
     },
     "metadata": {},
     "execution_count": 3
    }
   ],
   "source": [
    "dataloaders = unified.get_dataloaders()\n",
    "dataloaders[0]"
   ]
  },
  {
   "cell_type": "code",
   "execution_count": 4,
   "metadata": {},
   "outputs": [
    {
     "output_type": "execute_result",
     "data": {
      "text/plain": [
       "([1, 1, 1, 1, 0, 0, 0, 0],\n",
       " ['@realDonaldTrump because your ego is so damaged that you NEED it. Campaign is over. #SAD',\n",
       "  \"The road less traveled is never easy. Don't get stuck in the rat race. Choose your ownâ\\x80¦ https://t.co/wmXJ6YctVC\",\n",
       "  \"@PressSec You can run, but can't hide from wire tap. You're making yourself look like an idiot.\",\n",
       "  \"The road less traveled is never easy. Don't get stuck in the rat race. Choose your ownâ\\x80¦ https://t.co/wmXJ6YctVC\",\n",
       "  'RT @ColMorrisDavis: .@SenJohnMcCain says @realDonaldTrump was elected by the American ppl. No, he lost by 3M ppl &amp; won undemocratic Electorâ\\x80¦',\n",
       "  '@JadeSparks420 probably a good idea. Although it has been entertaining from my side :/',\n",
       "  'RT @joanjuneau: Obama Wiretap claim was just another distraction to keep us frm focusing on the Trump/Russian connection https://t.co/fSX2Nâ\\x80¦',\n",
       "  'RT @JoyAnnReid: #AMJoyRewind: Republicans want to repeal healthcare and replace it with ... freedom. https://t.co/u3ZPbaDzJm'])"
      ]
     },
     "metadata": {},
     "execution_count": 4
    }
   ],
   "source": [
    "next(dataloaders[0][0][1])"
   ]
  },
  {
   "cell_type": "code",
   "execution_count": 5,
   "metadata": {},
   "outputs": [
    {
     "output_type": "execute_result",
     "data": {
      "text/plain": [
       "([0,\n",
       "  0,\n",
       "  0,\n",
       "  0,\n",
       "  2,\n",
       "  2,\n",
       "  2,\n",
       "  2,\n",
       "  3,\n",
       "  3,\n",
       "  3,\n",
       "  3,\n",
       "  1,\n",
       "  1,\n",
       "  1,\n",
       "  1,\n",
       "  6,\n",
       "  6,\n",
       "  6,\n",
       "  6,\n",
       "  4,\n",
       "  4,\n",
       "  4,\n",
       "  4,\n",
       "  5,\n",
       "  5,\n",
       "  5,\n",
       "  5],\n",
       " ['The only solution I see against the #POTUS #SCOTUS #Tyranny is #ArticleV #FederalistPapers #SCOTUScare #GayMarriage #wtf #SemST',\n",
       "  \"People aren't 'pro-life' they're 'pro-birth'. When a mother can't provide what happens then? #SemST\",\n",
       "  'Australia is leading the way. Backwards. #MarriageEquaility #auspol #SemST',\n",
       "  \"Anyone find it funny that #Feminists use #TakeitLikeAMan when they don't want to understand what it means to be one?  #SemST\",\n",
       "  \"RT @WeNeedFeminism: I don't want to choose between having a family or having a career #SemST\",\n",
       "  '@WSJ images like this make me fearful that the next epidemic must be coming soon. #overpopulation #SemST',\n",
       "  'Nothing lies beyond the reach of prayer except that which lies outside the will of #God. ~Unknown #Quote #TeamJesus #SemST',\n",
       "  '@rosaryrevival When we #PrayTheRosary lest we forget to #Prayforpersecutedchurch #PrayForIsrael #PrayForUkraine',\n",
       "  \"Thanks for all the laughs tonight, @amyschumer! And the social commentary wasn't bad either ;) #equalpay #girlyoudontneedmakeup #SemST\",\n",
       "  \"Human rights are women's rights and women's rights are human rights. - Hillary Clinton #SemST\",\n",
       "  'Wow @fernemccann  you are beautiful even make up free! #girlpower #SemST',\n",
       "  'Recenter your world. Be the captain of your ship. The author of your life story. #SemST',\n",
       "  '@LifeNewsHQ What could have happened in her past to make her the cruel & frighteningly hard-hearted woman she is? #waronwomen #SemST',\n",
       "  '@ShowTruth Keeping pregnant people safe is a great reason for abortion, though.',\n",
       "  'You were alive for up to 9 months before you were bornKills #SemST',\n",
       "  'RT @abhinav_khanal: 700 people dead in Pakistan due to heatwave. #SemST',\n",
       "  '@DavidAttenborough meets @BarackObama on #TVNZOne interview on his life and the effects of #SemST',\n",
       "  'RT @prayerbullets: Let the righteousness, peace, and joy of the kingdom be established in my life -Rom. 14:17 #SemST',\n",
       "  'WORLDWIDE R.E. Agents! - Support a ProLife Group (U-choose) at NoCost ProLifeRealEstate@Yahoo.com #SemST',\n",
       "  'Lk 6:37 KJV  Judge not, and ye shall not be judged: condemn not, and ye shall not be condemned... #SemST',\n",
       "  '@TrapLordAlec @Bold_Radicals 10 to realize this is all actually a symbol for #SemST',\n",
       "  'I am 1 in 3... I have had an abortion #AbortionOnDemand #MenstruationMatters #SemST',\n",
       "  '@JW4Hillary @MrDane1982 I choose \"it takes a village! #SemST',\n",
       "  'Whether someone wants to have children or not should be completely up to the person carrying that pregnancy...',\n",
       "  '@RichardDawkins What is more likely to be real; Bigfoot, Loch Ness Monster or God ? #SemST',\n",
       "  'Serious question for my atheist libertarians: How can rights exist without God? #ChristianLibertarian #SemST',\n",
       "  '@charulife And I explained that they are in the keep your baby business, as they helped me get Medicaid and WIC. #SemST',\n",
       "  'How can a kingdom founded in violence long control the vice that brought it n2 existence? <-- commentary on Judges9 @BarackObama #SemST'])"
      ]
     },
     "metadata": {},
     "execution_count": 5
    }
   ],
   "source": [
    "next(dataloaders[0][1][1])"
   ]
  },
  {
   "cell_type": "code",
   "execution_count": 6,
   "metadata": {},
   "outputs": [],
   "source": [
    "from transformers import AutoTokenizer\n",
    "tokenizer = AutoTokenizer.from_pretrained('bert-base-cased')\n",
    "\n",
    "dataloaders = unified.get_dataloaders(tokenizer=tokenizer)"
   ]
  },
  {
   "cell_type": "code",
   "execution_count": 7,
   "metadata": {},
   "outputs": [
    {
     "output_type": "execute_result",
     "data": {
      "text/plain": [
       "(tensor([1, 1, 1, 1, 0, 0, 0, 0]),\n",
       " tensor([[  101,   101,   101,   101,   101,   101,   101,   101],\n",
       "         [  155,   137,   125,   155,   155,   146,   119,  9896],\n",
       "         [ 1942, 10785,   118,  1942,  1942,   112,   137,   117],\n",
       "         [  137,  1942,   128,   137,   137,   182,  2544, 21162],\n",
       "         [24586,  4638,   118, 10768, 13597,   107,  1708,  1285],\n",
       "         [ 1161,  1658,   129,  1592,   131,  9994, 10294,  1107],\n",
       "         [ 3048,  2312,   139,  9238,  2710,  1950,  3114,  1103],\n",
       "         [ 1813,  2349, 18709,  2069,  2332,   112,  3318,   138],\n",
       "         [ 4889,  3161,  1158,  6851, 15193,   188,  5354,   117],\n",
       "         [  131,  1233,  7882,  1181, 11857,  2963,  1111,  1725],\n",
       "         [ 1284,   137,  2605,   131,  1644,   107,  1494,  1821],\n",
       "         [ 1169,   191,  3530,  1370, 11877,  1105,   117,   146],\n",
       "         [28198,  4638,   131,  1842,  1103,  3036,  1583,  3351],\n",
       "         [ 1204,  2386, 18630,   119, 27157,  1624,  1110,   170],\n",
       "         [ 5042, 11083,   131, 18630,  2101,  6191,  1107, 13103],\n",
       "         [  131,  1208,   120,   131,  2197,   146, 13632,  2969],\n",
       "         [ 6867,   146,   120,   120,  1106,   112,   119,   136],\n",
       "         [ 1615, 16445,   189,   120, 26228,   182,  1230,   106],\n",
       "         [ 4274,  1221,   119,   189,  7661,   170,  5167,   136],\n",
       "         [18003,  1184,  1884,   119, 23340,  4433, 10473,   108],\n",
       "         [10118, 24328,   120,  1884,  1209,  1106,  1110, 21162],\n",
       "         [ 1106, 15154,   155,   120, 11125,  1237, 16888,   108],\n",
       "         [ 2757,  4773,  1665,   126,  2212, 12442,  1205,  1285],\n",
       "         [ 1164,  1176,  3663,  1775,   109,   117,   119,   108],\n",
       "         [ 2309,   102,  4538,  1403,   122,  6474, 18630,  5161],\n",
       "         [ 1114,     0,  2240,  2064,  2064,   137,   131,   108],\n",
       "         [ 1938,     0,  1186,  1233,  1107, 23280,   120,   100],\n",
       "         [ 3878,     0,  2591, 23293,  2891,  1775,   120, 18630],\n",
       "         [  119,     0,  2271,  2386,  1658,  3624,   189,   131],\n",
       "         [11336,     0,  5301,  2346,  4198,  8376,   119,   120],\n",
       "         [ 6697,     0,  1545,   102, 18630,  1197,  1884,   120],\n",
       "         [ 1348,     0,  2258,     0,   131,   131,   120,   189],\n",
       "         [ 2762,     0,   137,     0,   120, 18630,   121,   119],\n",
       "         [28198,     0,  7673,     0,   120,   131,  4426,  1884],\n",
       "         [ 1204,     0,   102,     0,   189,   120,  2137,   120],\n",
       "         [  100,     0,     0,     0,   119,   120,  1477,   126],\n",
       "         [  102,     0,     0,     0,  1884,   189,  1403,  2271],\n",
       "         [    0,     0,     0,     0,   120,   119,  1830,  2559],\n",
       "         [    0,     0,     0,     0,   100,  1884,  1197,  5301],\n",
       "         [    0,     0,     0,     0,   102,   120, 11420,  4426],\n",
       "         [    0,     0,     0,     0,     0,   176,  1708,  4538],\n",
       "         [    0,     0,     0,     0,     0,  2069,   102,  2227],\n",
       "         [    0,     0,     0,     0,     0, 13292,     0,  1377],\n",
       "         [    0,     0,     0,     0,     0,  1475,     0,  2559],\n",
       "         [    0,     0,     0,     0,     0,  2162,     0,   102],\n",
       "         [    0,     0,     0,     0,     0,  4426,     0,     0],\n",
       "         [    0,     0,     0,     0,     0,  1527,     0,     0],\n",
       "         [    0,     0,     0,     0,     0,  1306,     0,     0],\n",
       "         [    0,     0,     0,     0,     0,  1545,     0,     0],\n",
       "         [    0,     0,     0,     0,     0,   102,     0,     0]]),\n",
       " tensor([[1, 1, 1, 1, 1, 1, 1, 1],\n",
       "         [1, 1, 1, 1, 1, 1, 1, 1],\n",
       "         [1, 1, 1, 1, 1, 1, 1, 1],\n",
       "         [1, 1, 1, 1, 1, 1, 1, 1],\n",
       "         [1, 1, 1, 1, 1, 1, 1, 1],\n",
       "         [1, 1, 1, 1, 1, 1, 1, 1],\n",
       "         [1, 1, 1, 1, 1, 1, 1, 1],\n",
       "         [1, 1, 1, 1, 1, 1, 1, 1],\n",
       "         [1, 1, 1, 1, 1, 1, 1, 1],\n",
       "         [1, 1, 1, 1, 1, 1, 1, 1],\n",
       "         [1, 1, 1, 1, 1, 1, 1, 1],\n",
       "         [1, 1, 1, 1, 1, 1, 1, 1],\n",
       "         [1, 1, 1, 1, 1, 1, 1, 1],\n",
       "         [1, 1, 1, 1, 1, 1, 1, 1],\n",
       "         [1, 1, 1, 1, 1, 1, 1, 1],\n",
       "         [1, 1, 1, 1, 1, 1, 1, 1],\n",
       "         [1, 1, 1, 1, 1, 1, 1, 1],\n",
       "         [1, 1, 1, 1, 1, 1, 1, 1],\n",
       "         [1, 1, 1, 1, 1, 1, 1, 1],\n",
       "         [1, 1, 1, 1, 1, 1, 1, 1],\n",
       "         [1, 1, 1, 1, 1, 1, 1, 1],\n",
       "         [1, 1, 1, 1, 1, 1, 1, 1],\n",
       "         [1, 1, 1, 1, 1, 1, 1, 1],\n",
       "         [1, 1, 1, 1, 1, 1, 1, 1],\n",
       "         [1, 1, 1, 1, 1, 1, 1, 1],\n",
       "         [1, 0, 1, 1, 1, 1, 1, 1],\n",
       "         [1, 0, 1, 1, 1, 1, 1, 1],\n",
       "         [1, 0, 1, 1, 1, 1, 1, 1],\n",
       "         [1, 0, 1, 1, 1, 1, 1, 1],\n",
       "         [1, 0, 1, 1, 1, 1, 1, 1],\n",
       "         [1, 0, 1, 1, 1, 1, 1, 1],\n",
       "         [1, 0, 1, 0, 1, 1, 1, 1],\n",
       "         [1, 0, 1, 0, 1, 1, 1, 1],\n",
       "         [1, 0, 1, 0, 1, 1, 1, 1],\n",
       "         [1, 0, 1, 0, 1, 1, 1, 1],\n",
       "         [1, 0, 0, 0, 1, 1, 1, 1],\n",
       "         [1, 0, 0, 0, 1, 1, 1, 1],\n",
       "         [0, 0, 0, 0, 1, 1, 1, 1],\n",
       "         [0, 0, 0, 0, 1, 1, 1, 1],\n",
       "         [0, 0, 0, 0, 1, 1, 1, 1],\n",
       "         [0, 0, 0, 0, 0, 1, 1, 1],\n",
       "         [0, 0, 0, 0, 0, 1, 1, 1],\n",
       "         [0, 0, 0, 0, 0, 1, 0, 1],\n",
       "         [0, 0, 0, 0, 0, 1, 0, 1],\n",
       "         [0, 0, 0, 0, 0, 1, 0, 1],\n",
       "         [0, 0, 0, 0, 0, 1, 0, 0],\n",
       "         [0, 0, 0, 0, 0, 1, 0, 0],\n",
       "         [0, 0, 0, 0, 0, 1, 0, 0],\n",
       "         [0, 0, 0, 0, 0, 1, 0, 0],\n",
       "         [0, 0, 0, 0, 0, 1, 0, 0]]))"
      ]
     },
     "metadata": {},
     "execution_count": 7
    }
   ],
   "source": [
    "next(dataloaders[0][0][1])"
   ]
  },
  {
   "cell_type": "code",
   "execution_count": null,
   "metadata": {},
   "outputs": [],
   "source": []
  }
 ]
}