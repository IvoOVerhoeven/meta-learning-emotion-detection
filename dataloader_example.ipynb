{
 "metadata": {
  "language_info": {
   "codemirror_mode": {
    "name": "ipython",
    "version": 3
   },
   "file_extension": ".py",
   "mimetype": "text/x-python",
   "name": "python",
   "nbconvert_exporter": "python",
   "pygments_lexer": "ipython3",
   "version": "3.8.8"
  },
  "orig_nbformat": 2,
  "kernelspec": {
   "name": "python388jvsc74a57bd05807788318072d650ff7d3f12118168354b5d5c1b01788c0f8c7e03b8ca64544",
   "display_name": "Python 3.8.8 64-bit ('acts': conda)"
  }
 },
 "nbformat": 4,
 "nbformat_minor": 2,
 "cells": [
  {
   "source": [
    "# Data Pre-processing and dataloaders"
   ],
   "cell_type": "markdown",
   "metadata": {}
  },
  {
   "cell_type": "code",
   "execution_count": 1,
   "metadata": {},
   "outputs": [],
   "source": [
    "# Data source download: https://drive.google.com/file/d/1y7yjshepNRPhnh-Qz5MTRbnopGn7KzUm/view?usp=sharing\n",
    "# Originally from: https://github.com/sarnthil/unify-emotion-datasets"
   ]
  },
  {
   "cell_type": "code",
   "execution_count": 2,
   "metadata": {},
   "outputs": [],
   "source": [
    "from data.unified_emotion.unified_emotion import unified_emotion\n",
    "\n",
    "unified = unified_emotion(\"./data/datasets/unified-dataset.jsonl\")\n",
    "\n",
    "unified.prep()"
   ]
  },
  {
   "cell_type": "code",
   "execution_count": 3,
   "metadata": {},
   "outputs": [
    {
     "output_type": "execute_result",
     "data": {
      "text/plain": [
       "{'grounded_emotions': 2585,\n",
       " 'ssec': 4868,\n",
       " 'crowdflower': 40000,\n",
       " 'dailydialog': 102979,\n",
       " 'tales-emotion': 14771,\n",
       " 'tec': 21051,\n",
       " 'emoint': 7102}"
      ]
     },
     "metadata": {},
     "execution_count": 3
    }
   ],
   "source": [
    "unified.lens"
   ]
  },
  {
   "cell_type": "code",
   "execution_count": 4,
   "metadata": {},
   "outputs": [
    {
     "output_type": "execute_result",
     "data": {
      "text/plain": [
       "([0, 0, 0, 0, 1, 1, 1, 1, 2, 2, 2, 2, 3, 3, 3, 3],\n",
       " [\"Absolutely fuming I've just scratched all my car ð\\x9f\\x98¡ð\\x9f\\x98¡ð\\x9f\\x98¡ð\\x9f\\x98¡ð\\x9f\\x98¡ð\\x9f\\x98¡\",\n",
       "  '@Blewberry02CP Content updates provoke that income.',\n",
       "  'i live and die for mchanzo honeymoon crashing and burning the second they move in together',\n",
       "  \"@jackmegawphoto what if lives are attached to real estate? Shall I come trash your cameras because I'm angry with what your race is doing?\",\n",
       "  \"If I was a ghost I'd haunt people by giving them cramps in both of their legs when they do cardio ð\\x9f\\x98\\x88ð\\x9f\\x98\\x88ð\\x9f\\x98\\x88 #Mwahaha\",\n",
       "  '@TheBadgerBoy check out the article on @SaintSkipper5 on @dailyecho',\n",
       "  \"@AllyTheRipper @ProoF @SpaitoGaming every horror movie that frightened me as a child i.e. 'IT', Halloween movies all of them, nightmare on..\",\n",
       "  'The anxiety I have right nowð\\x9f\\x98\\xadð\\x9f\\x98\\xadð\\x9f\\x98\\xad',\n",
       "  \"@BlueJayHunter I'm fine on the near future, I just want to go to bed super elated and put together audio compilations of great moments.\",\n",
       "  '#GBBO can cheer me up â\\x98ºï¸\\x8f',\n",
       "  'Loved @Bethenny independence msg on @WendyWilliams, be happy &amp; fulfilled within yourself &amp; positivity will flock to you  #independent',\n",
       "  'Fun pizza night last night with the @PERFORMERS_COLL crew. What a gorgeous bunch of newbies â\\x9d¤ï¸\\x8f #lively #exciting ð\\x9f\\x92ªð\\x9f\\x8f¼',\n",
       "  '@ShannonBeador we know the truth about her, the public is figuring it out. Her words mean nothing.  #unhappy #mean #troubled #vile #bully',\n",
       "  'Muscled man with huge heart is messing with my brain and heart. #lost #confused',\n",
       "  '@khloe_speaks sad music',\n",
       "  \"@jamiesonhelen @MarianKeyes all three of my agin's on the pout .\"])"
      ]
     },
     "metadata": {},
     "execution_count": 4
    }
   ],
   "source": [
    "trainloader, testloader = unified.get_dataloader('emoint')\n",
    "next(trainloader)"
   ]
  },
  {
   "cell_type": "code",
   "execution_count": 5,
   "metadata": {},
   "outputs": [
    {
     "output_type": "execute_result",
     "data": {
      "text/plain": [
       "([1, 1, 1, 1, 0, 0, 0, 0],\n",
       " [\"RT @thehill: Top House Dem pushes for vote to release Trump's taxes https://t.co/BI4o8fE3SM https://t.co/snrbJ0rQyb\",\n",
       "  'RT @mysafela: Join us March 18th in San Pedro for a #SmokeAlarmAwarenessMonth community event in #SanPedro https://t.co/lESN9H2yCY',\n",
       "  \"RT @NPR: Trump's former national security adviser collected more than $50,000 from Russian firms, according to documents https://t.co/mB137â\\x80¦\",\n",
       "  '@benpershing @mollyesque What BS. How embarrassing to have this a**hole as leader of the free world! #NeverTrump',\n",
       "  \"I think I'll run through Miami in my Cavs Championship t-shirt now.\",\n",
       "  '@GeorgeTakei @Nolisph mostly #TrumpSupporters',\n",
       "  'RT @Khanoisseur: 2. Trump Tower Istanbul cocaine trafficking partner Yesil not to be confused with Trump Tower Philadelphia coke-traffickinâ\\x80¦',\n",
       "  'RT @AP_Politics: BREAKING: Trump transition was told Flynn likely needed to register as foreign agent before taking top national security râ\\x80¦'])"
      ]
     },
     "metadata": {},
     "execution_count": 5
    }
   ],
   "source": [
    "trainloader, testloader = unified.get_dataloader('grounded_emotions', shuffle=True)\n",
    "next(trainloader)"
   ]
  },
  {
   "cell_type": "code",
   "execution_count": 6,
   "metadata": {},
   "outputs": [
    {
     "output_type": "error",
     "ename": "StopIteration",
     "evalue": "Some classes ran out of data.",
     "traceback": [
      "\u001b[1;31m---------------------------------------------------------------------------\u001b[0m",
      "\u001b[1;31mStopIteration\u001b[0m                             Traceback (most recent call last)",
      "\u001b[1;32m<ipython-input-6-1cb4a5ce86d1>\u001b[0m in \u001b[0;36m<module>\u001b[1;34m\u001b[0m\n\u001b[0;32m      1\u001b[0m \u001b[1;32mwhile\u001b[0m \u001b[1;32mTrue\u001b[0m\u001b[1;33m:\u001b[0m\u001b[1;33m\u001b[0m\u001b[1;33m\u001b[0m\u001b[0m\n\u001b[1;32m----> 2\u001b[1;33m     \u001b[0mnext\u001b[0m\u001b[1;33m(\u001b[0m\u001b[0mtestloader\u001b[0m\u001b[1;33m)\u001b[0m\u001b[1;33m\u001b[0m\u001b[1;33m\u001b[0m\u001b[0m\n\u001b[0m",
      "\u001b[1;32mc:\\Users\\ivoon\\Documents\\GitHub\\meta-learning-emotion-detection\\data\\unified_emotion\\unified_stratified_loader.py\u001b[0m in \u001b[0;36m__next__\u001b[1;34m(self)\u001b[0m\n\u001b[0;32m     47\u001b[0m \u001b[1;33m\u001b[0m\u001b[0m\n\u001b[0;32m     48\u001b[0m         \u001b[1;32mif\u001b[0m \u001b[1;32mnot\u001b[0m \u001b[0mall\u001b[0m\u001b[1;33m(\u001b[0m\u001b[1;33m[\u001b[0m\u001b[0ml\u001b[0m \u001b[1;33m>\u001b[0m \u001b[0mself\u001b[0m\u001b[1;33m.\u001b[0m\u001b[0mk\u001b[0m \u001b[1;32mfor\u001b[0m \u001b[0ml\u001b[0m \u001b[1;32min\u001b[0m \u001b[0mself\u001b[0m\u001b[1;33m.\u001b[0m\u001b[0mlens\u001b[0m\u001b[1;33m(\u001b[0m\u001b[1;33m)\u001b[0m\u001b[1;33m]\u001b[0m\u001b[1;33m)\u001b[0m\u001b[1;33m:\u001b[0m\u001b[1;33m\u001b[0m\u001b[1;33m\u001b[0m\u001b[0m\n\u001b[1;32m---> 49\u001b[1;33m             \u001b[1;32mraise\u001b[0m \u001b[0mStopIteration\u001b[0m\u001b[1;33m(\u001b[0m\u001b[1;34m\"Some classes ran out of data.\"\u001b[0m\u001b[1;33m)\u001b[0m\u001b[1;33m\u001b[0m\u001b[1;33m\u001b[0m\u001b[0m\n\u001b[0m\u001b[0;32m     50\u001b[0m \u001b[1;33m\u001b[0m\u001b[0m\n\u001b[0;32m     51\u001b[0m         \u001b[0mtext\u001b[0m \u001b[1;33m=\u001b[0m \u001b[1;33m[\u001b[0m\u001b[1;33m]\u001b[0m\u001b[1;33m\u001b[0m\u001b[1;33m\u001b[0m\u001b[0m\n",
      "\u001b[1;31mStopIteration\u001b[0m: Some classes ran out of data."
     ]
    }
   ],
   "source": [
    "while True:\n",
    "    next(testloader)"
   ]
  },
  {
   "cell_type": "code",
   "execution_count": 8,
   "metadata": {},
   "outputs": [
    {
     "output_type": "execute_result",
     "data": {
      "text/plain": [
       "(tensor([1, 1, 1, 1, 0, 0, 0, 0]),\n",
       " tensor([[  101,   101,   101,   101,   101,   101,   101,   101],\n",
       "         [ 8325,   155,   144,  1192,   108,   155,   155,   155],\n",
       "         [16168,  1942, 17952,  1169,  5913,  1942,  1942,  1942],\n",
       "         [  137,   137,   158,  7098,   108,   137,   137,   137],\n",
       "         [16853,  1103,  1197,  1133,  1873, 20777, 10768, 13832],\n",
       "         [  106,  1658,   189,  1114,  1114,  2069,  1592,  1964],\n",
       "         [  106, 15554,  7231,  5228,  1199, 25611,  9238,  2137],\n",
       "         [  106,  7168, 16972,   117,  3264,  1394,  2069, 11470],\n",
       "         [  106,  2240, 11392,  6706,   108,   131,  6851, 22615],\n",
       "         [ 5749,  1673,  3663,  1614,  9069,  1327,  1181,  2271],\n",
       "         [ 1111,  1584,   106,  1106,  1643,   112,   131,  6775],\n",
       "         [ 1155,   131,   157,  1435,  9180,   188, 19642,   131],\n",
       "         [ 1128,   108, 26033,   119, 14247,  1103,  1817,  2796],\n",
       "         [ 1202,   149,  1116,   108,  1306, 18893,  1142,   153],\n",
       "         [ 1111, 10279,   199,  5540,   119,  2346,  1268, 27975],\n",
       "         [ 1412,  1179,  3477,   108,  3414,  2794,  1303,  1204],\n",
       "         [ 1583,  2069, 18630,  1297,   108,   117,   119, 28198],\n",
       "         [ 1107,  6582,   131,   108,  3940, 27157,  6173,  1116],\n",
       "         [ 6611,  1144,   120,  1567,  1120,  2101,  8743,  3427],\n",
       "         [ 1122,  1185,   120,   108, 12556,   136,  8406, 11323],\n",
       "         [ 1121, 10499,   189,  2816,  6066,  1731,  2371,  1106],\n",
       "         [ 1103,   119,   119,   108,  1186,  1169,  1751,  2757],\n",
       "         [  262,   137,  1884,  9266,   184,  1128,   117,   248],\n",
       "         [28204,  9911,   120,   108,  1306,  6322,  3370,  1105],\n",
       "         [  119,  2069,   145,   100,  1403,  9215,  9215,  1103],\n",
       "         [ 2048,  6582,  1183, 18630,   137,  1104,  1104,  1237],\n",
       "         [ 1105,  8567,  5301,   131, 12556,  4329,  1268,  1234],\n",
       "         [ 1111,   119,  4880,   120,  6066,  1233,  3092,   119],\n",
       "         [ 5920,  2508,  2249,   120,  1186,   112,  8460, 18630],\n",
       "         [  100,  1324, 10493,   189, 26091,   188,  1176,   131],\n",
       "         [18630,   117,  1559,   119,   111,  2332,  4705,   120],\n",
       "         [  131,  1122,  1665,  1884,  1821,  5986,  5361,   120],\n",
       "         [  120,   112,  3190,   120,  1643,  1114,   119,   189],\n",
       "         [  120,   188,  1274,   147,   132, 24258, 18630,   119],\n",
       "         [  189,  1147,   112, 22737,  9326,  3101,   131,  1884],\n",
       "         [  119,  1319,   189,  1182, 17395,  6944,   120,   120],\n",
       "         [ 1884,  6088,   125,  1571,  1162,  1895,   120,   192],\n",
       "         [  120,  1111, 16609,  1182, 18630,  8396,   189,  1403],\n",
       "         [  128,  1217,  1412,  3663,   131,  2173,   119,  2707],\n",
       "         [ 4880,  2869,  2505,  9159,   120,  1133,  1884,  1403],\n",
       "         [ 1358,   119,  9304,  1204,   120, 10250,   120,  5301],\n",
       "         [20156,  9743, 14480,   102,   189,  1106,   100,  2101],\n",
       "         [ 1942,   112,  1279,     0,   119,   100,   102,  9238],\n",
       "         [ 4426,  1396,   106,     0,  1884,   102,     0,  2240],\n",
       "         [ 1665,  1151, 18630,     0,   120,     0,     0,   102],\n",
       "         [ 2137,  1255,   131,     0,   142,     0,     0,     0],\n",
       "         [ 1182,  3987,   120,     0,  1964,     0,     0,     0],\n",
       "         [  102,  1105,   120,     0,  1495,     0,     0,     0],\n",
       "         [    0,   100,   189,     0,  3048,     0,     0,     0],\n",
       "         [    0,   102,   119,     0,  3190,     0,     0,     0],\n",
       "         [    0,     0,  1884,     0,  2069,     0,     0,     0],\n",
       "         [    0,     0,   120,     0,  1559,     0,     0,     0],\n",
       "         [    0,     0,   100,     0,  1324,     0,     0,     0],\n",
       "         [    0,     0, 18630,     0,  1568,     0,     0,     0],\n",
       "         [    0,     0,   131,     0,  1179,     0,     0,     0],\n",
       "         [    0,     0,   120,     0,   102,     0,     0,     0],\n",
       "         [    0,     0,   120,     0,     0,     0,     0,     0],\n",
       "         [    0,     0,   189,     0,     0,     0,     0,     0],\n",
       "         [    0,     0,   119,     0,     0,     0,     0,     0],\n",
       "         [    0,     0,  1884,     0,     0,     0,     0,     0],\n",
       "         [    0,     0,   120,     0,     0,     0,     0,     0],\n",
       "         [    0,     0,   154,     0,     0,     0,     0,     0],\n",
       "         [    0,     0,  1495,     0,     0,     0,     0,     0],\n",
       "         [    0,     0,  6258,     0,     0,     0,     0,     0],\n",
       "         [    0,     0, 26436,     0,     0,     0,     0,     0],\n",
       "         [    0,     0,  2064,     0,     0,     0,     0,     0],\n",
       "         [    0,     0,  5301,     0,     0,     0,     0,     0],\n",
       "         [    0,     0,  2591,     0,     0,     0,     0,     0],\n",
       "         [    0,     0,  1477,     0,     0,     0,     0,     0],\n",
       "         [    0,     0,   102,     0,     0,     0,     0,     0]]),\n",
       " tensor([[1, 1, 1, 1, 1, 1, 1, 1],\n",
       "         [1, 1, 1, 1, 1, 1, 1, 1],\n",
       "         [1, 1, 1, 1, 1, 1, 1, 1],\n",
       "         [1, 1, 1, 1, 1, 1, 1, 1],\n",
       "         [1, 1, 1, 1, 1, 1, 1, 1],\n",
       "         [1, 1, 1, 1, 1, 1, 1, 1],\n",
       "         [1, 1, 1, 1, 1, 1, 1, 1],\n",
       "         [1, 1, 1, 1, 1, 1, 1, 1],\n",
       "         [1, 1, 1, 1, 1, 1, 1, 1],\n",
       "         [1, 1, 1, 1, 1, 1, 1, 1],\n",
       "         [1, 1, 1, 1, 1, 1, 1, 1],\n",
       "         [1, 1, 1, 1, 1, 1, 1, 1],\n",
       "         [1, 1, 1, 1, 1, 1, 1, 1],\n",
       "         [1, 1, 1, 1, 1, 1, 1, 1],\n",
       "         [1, 1, 1, 1, 1, 1, 1, 1],\n",
       "         [1, 1, 1, 1, 1, 1, 1, 1],\n",
       "         [1, 1, 1, 1, 1, 1, 1, 1],\n",
       "         [1, 1, 1, 1, 1, 1, 1, 1],\n",
       "         [1, 1, 1, 1, 1, 1, 1, 1],\n",
       "         [1, 1, 1, 1, 1, 1, 1, 1],\n",
       "         [1, 1, 1, 1, 1, 1, 1, 1],\n",
       "         [1, 1, 1, 1, 1, 1, 1, 1],\n",
       "         [1, 1, 1, 1, 1, 1, 1, 1],\n",
       "         [1, 1, 1, 1, 1, 1, 1, 1],\n",
       "         [1, 1, 1, 1, 1, 1, 1, 1],\n",
       "         [1, 1, 1, 1, 1, 1, 1, 1],\n",
       "         [1, 1, 1, 1, 1, 1, 1, 1],\n",
       "         [1, 1, 1, 1, 1, 1, 1, 1],\n",
       "         [1, 1, 1, 1, 1, 1, 1, 1],\n",
       "         [1, 1, 1, 1, 1, 1, 1, 1],\n",
       "         [1, 1, 1, 1, 1, 1, 1, 1],\n",
       "         [1, 1, 1, 1, 1, 1, 1, 1],\n",
       "         [1, 1, 1, 1, 1, 1, 1, 1],\n",
       "         [1, 1, 1, 1, 1, 1, 1, 1],\n",
       "         [1, 1, 1, 1, 1, 1, 1, 1],\n",
       "         [1, 1, 1, 1, 1, 1, 1, 1],\n",
       "         [1, 1, 1, 1, 1, 1, 1, 1],\n",
       "         [1, 1, 1, 1, 1, 1, 1, 1],\n",
       "         [1, 1, 1, 1, 1, 1, 1, 1],\n",
       "         [1, 1, 1, 1, 1, 1, 1, 1],\n",
       "         [1, 1, 1, 1, 1, 1, 1, 1],\n",
       "         [1, 1, 1, 1, 1, 1, 1, 1],\n",
       "         [1, 1, 1, 0, 1, 1, 1, 1],\n",
       "         [1, 1, 1, 0, 1, 1, 0, 1],\n",
       "         [1, 1, 1, 0, 1, 0, 0, 1],\n",
       "         [1, 1, 1, 0, 1, 0, 0, 0],\n",
       "         [1, 1, 1, 0, 1, 0, 0, 0],\n",
       "         [1, 1, 1, 0, 1, 0, 0, 0],\n",
       "         [0, 1, 1, 0, 1, 0, 0, 0],\n",
       "         [0, 1, 1, 0, 1, 0, 0, 0],\n",
       "         [0, 0, 1, 0, 1, 0, 0, 0],\n",
       "         [0, 0, 1, 0, 1, 0, 0, 0],\n",
       "         [0, 0, 1, 0, 1, 0, 0, 0],\n",
       "         [0, 0, 1, 0, 1, 0, 0, 0],\n",
       "         [0, 0, 1, 0, 1, 0, 0, 0],\n",
       "         [0, 0, 1, 0, 1, 0, 0, 0],\n",
       "         [0, 0, 1, 0, 0, 0, 0, 0],\n",
       "         [0, 0, 1, 0, 0, 0, 0, 0],\n",
       "         [0, 0, 1, 0, 0, 0, 0, 0],\n",
       "         [0, 0, 1, 0, 0, 0, 0, 0],\n",
       "         [0, 0, 1, 0, 0, 0, 0, 0],\n",
       "         [0, 0, 1, 0, 0, 0, 0, 0],\n",
       "         [0, 0, 1, 0, 0, 0, 0, 0],\n",
       "         [0, 0, 1, 0, 0, 0, 0, 0],\n",
       "         [0, 0, 1, 0, 0, 0, 0, 0],\n",
       "         [0, 0, 1, 0, 0, 0, 0, 0],\n",
       "         [0, 0, 1, 0, 0, 0, 0, 0],\n",
       "         [0, 0, 1, 0, 0, 0, 0, 0],\n",
       "         [0, 0, 1, 0, 0, 0, 0, 0],\n",
       "         [0, 0, 1, 0, 0, 0, 0, 0]]))"
      ]
     },
     "metadata": {},
     "execution_count": 8
    }
   ],
   "source": [
    "from transformers import AutoTokenizer\n",
    "tokenizer = AutoTokenizer.from_pretrained('bert-base-cased')\n",
    "\n",
    "trainloader, testloader = unified.get_dataloader('grounded_emotions', tokenizer=tokenizer, shuffle=True)\n",
    "next(trainloader)"
   ]
  },
  {
   "source": [
    "# Construction of training loop (outer)"
   ],
   "cell_type": "markdown",
   "metadata": {}
  },
  {
   "cell_type": "code",
   "execution_count": 85,
   "metadata": {},
   "outputs": [
    {
     "output_type": "execute_result",
     "data": {
      "text/plain": [
       "'dailydialog'"
      ]
     },
     "metadata": {},
     "execution_count": 85
    }
   ],
   "source": [
    "from data.utils.sampling import dataset_sampler\n",
    "\n",
    "dataset_sampler(unified, sampling_method='sqrt')"
   ]
  }
 ]
}