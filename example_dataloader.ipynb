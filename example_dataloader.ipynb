{
 "metadata": {
  "language_info": {
   "codemirror_mode": {
    "name": "ipython",
    "version": 3
   },
   "file_extension": ".py",
   "mimetype": "text/x-python",
   "name": "python",
   "nbconvert_exporter": "python",
   "pygments_lexer": "ipython3",
   "version": "3.8.8"
  },
  "orig_nbformat": 2,
  "kernelspec": {
   "name": "python388jvsc74a57bd05807788318072d650ff7d3f12118168354b5d5c1b01788c0f8c7e03b8ca64544",
   "display_name": "Python 3.8.8 64-bit ('acts': conda)"
  }
 },
 "nbformat": 4,
 "nbformat_minor": 2,
 "cells": [
  {
   "source": [
    "# Data Pre-processing and dataloaders"
   ],
   "cell_type": "markdown",
   "metadata": {}
  },
  {
   "cell_type": "code",
   "execution_count": 1,
   "metadata": {},
   "outputs": [],
   "source": [
    "# Data source download: https://drive.google.com/file/d/1y7yjshepNRPhnh-Qz5MTRbnopGn7KzUm/view?usp=sharing\n",
    "# Originally from: https://github.com/sarnthil/unify-emotion-datasets"
   ]
  },
  {
   "cell_type": "code",
   "execution_count": 2,
   "metadata": {},
   "outputs": [],
   "source": [
    "from data.unified_emotion.unified_emotion import unified_emotion\n",
    "\n",
    "unified = unified_emotion(\"./data/datasets/unified-dataset.jsonl\")\n",
    "\n",
    "unified.prep()"
   ]
  },
  {
   "cell_type": "code",
   "execution_count": 3,
   "metadata": {},
   "outputs": [
    {
     "output_type": "execute_result",
     "data": {
      "text/plain": [
       "{'grounded_emotions': 2585,\n",
       " 'ssec': 4868,\n",
       " 'crowdflower': 40000,\n",
       " 'dailydialog': 102979,\n",
       " 'tales-emotion': 14771,\n",
       " 'tec': 21051,\n",
       " 'emoint': 7102}"
      ]
     },
     "metadata": {},
     "execution_count": 3
    }
   ],
   "source": [
    "unified.lens"
   ]
  },
  {
   "cell_type": "code",
   "execution_count": 4,
   "metadata": {},
   "outputs": [
    {
     "output_type": "execute_result",
     "data": {
      "text/plain": [
       "([0, 0, 0, 0, 1, 1, 1, 1, 2, 2, 2, 2, 3, 3, 3, 3],\n",
       " ['Star trek online has a update to download oh fuming yay',\n",
       "  '#Anger or #wrath is an intense emotional response.',\n",
       "  \"@LethalWeaponFOX promised I wouldn't live tweet, but  @DamonkWayans + @ClayneCrawford brought it! @JordanaBrewster and #furious action FTW!\",\n",
       "  \"@summar_rose @turehndebushra @_taaz_mania @fxla_ summar one more insult from you and you're gone Idc if you're my dad\",\n",
       "  'Happy Birthday to my favorite author, @StephenKing #horror #writer #author',\n",
       "  \"@jdwmaguire 'They will be a formidable challenge' Roy Hodgson on Northampton Town *shudders*\",\n",
       "  \"@dburka I'm not sure what's worse: that, or the use of Comic Sans on a website (or anywhere else)  #comicsans\",\n",
       "  'Val got a little too big for her hiking boots with that bakewell, the little terror #GBBO',\n",
       "  'Swear I got the most playful ass bf ever ð\\x9f\\x98\\x82ð\\x9f\\x99\\x84',\n",
       "  '@nerdist How cool would it be if @StephenByrne86 animated the scene',\n",
       "  'Some vile piece of scum rejoicing in the fact that you have dead children is inhuman and to say it to me is worse still. I hope karma knocks',\n",
       "  'Heather that was #hilarious! @MsHeatherBates @pattonoswalt @chrishansen #AnthonyWeiner #15gets20 #NYC',\n",
       "  'SOBRIETYÂ®   trying to make being sober fashionableâ\\x80¦.can it be done ? #zeroalcohol #soberoctober #clubsoda #nomorehangovers #sober',\n",
       "  '@komaebun He just has that way of thinking, he wants absolute hope born from absolute despair.',\n",
       "  'Brad Pitt being investigated for child abuse?! this all just got really #dark',\n",
       "  'The last few weeks have been dreadful. opening up of old #wounds. the #gossip of others/evil that spill from thier lips #melancholy #sadnnes'])"
      ]
     },
     "metadata": {},
     "execution_count": 4
    }
   ],
   "source": [
    "trainloader, testloader = unified.get_dataloader('emoint')\n",
    "next(trainloader)"
   ]
  },
  {
   "cell_type": "code",
   "execution_count": 5,
   "metadata": {},
   "outputs": [
    {
     "output_type": "execute_result",
     "data": {
      "text/plain": [
       "([1, 1, 1, 1, 0, 0, 0, 0],\n",
       " ['RT @Digiday: Debunking the video header bidding hype, a publisherâ\\x80\\x99s guide https://t.co/32dZcENQNh sponsor @SpotX',\n",
       "  'A #beautiful day and momentary change of scenery. #Happy #Friday I hope the day has found youâ\\x80¦ https://t.co/r32y5qfJRq',\n",
       "  \"RT @NICKinNOVA: @TuxcedoCat @RosLehtinen @Deidramayfair And that's without Medicaid expansion.\",\n",
       "  'RT @BatesRosary: @Ireland0828 @SWB253 @loisjnv @HelenELais @EdSkipper @MoaninMary @MoniqueMellon @Rodham2016 @soder606 @tedtoake1 @lemire_sâ\\x80¦',\n",
       "  'RT @ColMorrisDavis: Accountability is top down. Commander-in-Chief @realDonaldTrump bragged about grabbing p*ssy &amp; treating women like sh*tâ\\x80¦',\n",
       "  '@Tyler123B1 @ABC7Chicago point is if u r doing a photo shoot, in a dangerous location, on a expressway, cliff, @ sea, tracks,have a look out',\n",
       "  \"RT @MattGertz: Two weeks ago, an IJR reporter wrote a Tillerson puff piece. Today she's the only reporter on his plane in Asia. https://t.câ\\x80¦\",\n",
       "  \"@lyssa323 maybe.... just maybe.... the leafs just aren't good at hockeying\"])"
      ]
     },
     "metadata": {},
     "execution_count": 5
    }
   ],
   "source": [
    "trainloader, testloader = unified.get_dataloader('grounded_emotions', shuffle=True)\n",
    "next(trainloader)"
   ]
  },
  {
   "cell_type": "code",
   "execution_count": 6,
   "metadata": {},
   "outputs": [
    {
     "output_type": "execute_result",
     "data": {
      "text/plain": [
       "(tensor([1, 1, 1, 1, 0, 0, 0, 0]),\n",
       " tensor([[  101,  2048,  8147,   117,  1152,  1842, 10509,   117,  1105,  2963,\n",
       "           1177,  1821,   146,   106,   108,  9588,   108,   146,  1477,  2240,\n",
       "          10973,  2101, 24886,  2087,   108,  1504,  2162, 21877,   108,  1457,\n",
       "           5123, 27116,  4777,   108,  4334,   108, 13832,  2528,  4084,  3375,\n",
       "            108,  8325,   108,  9269, 12526,   102,     0,     0,     0,     0,\n",
       "              0,     0],\n",
       "         [  101,   156,  2346,  2816,  1106,  7236,  1139, 15649,  8618,   111,\n",
       "           1821,  1643,   132,  3899,   106,   158,  1294,  1143,  1304,  2816,\n",
       "            119, 27652,   158,  1197,  1303,   119,   262, 18630,   131,   120,\n",
       "            120,   189,   119,  1884,   120,   176,  1179, 23206,  3361,  1584,\n",
       "           1592,  1604,  2249,  1183,   102,     0,     0,     0,     0,     0,\n",
       "              0,     0],\n",
       "         [  101,  1109,  2513,  1110,  1106,  1712,  1280,  1146,   100, 26227,\n",
       "          10160,  9037, 16936,  2728,   108,  2235,   108, 13117,   108,  5152,\n",
       "            108,   100, 18630,   131,   120,   120,   189,   119,  1884,   120,\n",
       "          27758,  1197,  3361,  1775,  1580,  1604,  4538,  4880,  1377,   102,\n",
       "              0,     0,     0,     0,     0,     0,     0,     0,     0,     0,\n",
       "              0,     0],\n",
       "         [  101,   108, 10696,  1116,  1444,  1106,  1243,  1147,  2496,  1487,\n",
       "           1113,   108,  9690,  1592, 18630,   131,   120,   120,   189,   119,\n",
       "           1884,   120,   152,  1604,  2271,  1475,  1162,  1477, 24597, 20056,\n",
       "            102,     0,     0,     0,     0,     0,     0,     0,     0,     0,\n",
       "              0,     0,     0,     0,     0,     0,     0,     0,     0,     0,\n",
       "              0,     0],\n",
       "         [  101,   155,  1942,   137,   139,  1988,  1596,  2101, 10127,   131,\n",
       "           2160,   117,  2545,  7510,   119,  1284,  1328,   123,  2049,  1234,\n",
       "            123,  2653,  7538,   123,  5841, 18315,  1111,  1155,   119,  2066,\n",
       "           1176,  1195,  2049,  1234,   123,  2653,   125,  1764,  1194,   100,\n",
       "            102,     0,     0,     0,     0,     0,     0,     0,     0,     0,\n",
       "              0,     0],\n",
       "         [  101,   146,   112,   182,  1120,   146,   118,  4573,  2249, 23612,\n",
       "           8584,  2516,  9761,  1107, 23612,  8584,   117, 16899, 18630,   131,\n",
       "            120,   120,   189,   119,  1884,   120,   185,  3190,  1592,  4980,\n",
       "           2428,  2349,  1559,  1495,  3361,   102,     0,     0,     0,     0,\n",
       "              0,     0,     0,     0,     0,     0,     0,     0,     0,     0,\n",
       "              0,     0],\n",
       "         [  101,   155,  1942,   137,   146,  8223, 17269,   168,   141,   168,\n",
       "           8499,   131,   108, 26660, 12420,  2428, 15740,   118,   146,  1198,\n",
       "           3306,   170,  1207, 26470,  4442,  1120,  1798,  2064, 20257,   111,\n",
       "           1821,  1643,   132,  1122,  2228,  2633,  6363,  1105,  3618, 13433,\n",
       "           1315,   119,   108,  4368,  1592, 10934,  1658,  1320,  2787,   108,\n",
       "            100,   102],\n",
       "         [  101,   137,   179,  1320,  3382,  1777,  6198,  1271,  1141,  1645,\n",
       "           5703,  3382,  1674,  1115,  2762,   112,   189,  2633,   102,     0,\n",
       "              0,     0,     0,     0,     0,     0,     0,     0,     0,     0,\n",
       "              0,     0,     0,     0,     0,     0,     0,     0,     0,     0,\n",
       "              0,     0,     0,     0,     0,     0,     0,     0,     0,     0,\n",
       "              0,     0]]),\n",
       " tensor([[1, 1, 1, 1, 1, 1, 1, 1, 1, 1, 1, 1, 1, 1, 1, 1, 1, 1, 1, 1, 1, 1, 1, 1,\n",
       "          1, 1, 1, 1, 1, 1, 1, 1, 1, 1, 1, 1, 1, 1, 1, 1, 1, 1, 1, 1, 1, 1, 0, 0,\n",
       "          0, 0, 0, 0],\n",
       "         [1, 1, 1, 1, 1, 1, 1, 1, 1, 1, 1, 1, 1, 1, 1, 1, 1, 1, 1, 1, 1, 1, 1, 1,\n",
       "          1, 1, 1, 1, 1, 1, 1, 1, 1, 1, 1, 1, 1, 1, 1, 1, 1, 1, 1, 1, 1, 0, 0, 0,\n",
       "          0, 0, 0, 0],\n",
       "         [1, 1, 1, 1, 1, 1, 1, 1, 1, 1, 1, 1, 1, 1, 1, 1, 1, 1, 1, 1, 1, 1, 1, 1,\n",
       "          1, 1, 1, 1, 1, 1, 1, 1, 1, 1, 1, 1, 1, 1, 1, 1, 0, 0, 0, 0, 0, 0, 0, 0,\n",
       "          0, 0, 0, 0],\n",
       "         [1, 1, 1, 1, 1, 1, 1, 1, 1, 1, 1, 1, 1, 1, 1, 1, 1, 1, 1, 1, 1, 1, 1, 1,\n",
       "          1, 1, 1, 1, 1, 1, 1, 0, 0, 0, 0, 0, 0, 0, 0, 0, 0, 0, 0, 0, 0, 0, 0, 0,\n",
       "          0, 0, 0, 0],\n",
       "         [1, 1, 1, 1, 1, 1, 1, 1, 1, 1, 1, 1, 1, 1, 1, 1, 1, 1, 1, 1, 1, 1, 1, 1,\n",
       "          1, 1, 1, 1, 1, 1, 1, 1, 1, 1, 1, 1, 1, 1, 1, 1, 1, 0, 0, 0, 0, 0, 0, 0,\n",
       "          0, 0, 0, 0],\n",
       "         [1, 1, 1, 1, 1, 1, 1, 1, 1, 1, 1, 1, 1, 1, 1, 1, 1, 1, 1, 1, 1, 1, 1, 1,\n",
       "          1, 1, 1, 1, 1, 1, 1, 1, 1, 1, 1, 1, 0, 0, 0, 0, 0, 0, 0, 0, 0, 0, 0, 0,\n",
       "          0, 0, 0, 0],\n",
       "         [1, 1, 1, 1, 1, 1, 1, 1, 1, 1, 1, 1, 1, 1, 1, 1, 1, 1, 1, 1, 1, 1, 1, 1,\n",
       "          1, 1, 1, 1, 1, 1, 1, 1, 1, 1, 1, 1, 1, 1, 1, 1, 1, 1, 1, 1, 1, 1, 1, 1,\n",
       "          1, 1, 1, 1],\n",
       "         [1, 1, 1, 1, 1, 1, 1, 1, 1, 1, 1, 1, 1, 1, 1, 1, 1, 1, 1, 0, 0, 0, 0, 0,\n",
       "          0, 0, 0, 0, 0, 0, 0, 0, 0, 0, 0, 0, 0, 0, 0, 0, 0, 0, 0, 0, 0, 0, 0, 0,\n",
       "          0, 0, 0, 0]]))"
      ]
     },
     "metadata": {},
     "execution_count": 6
    }
   ],
   "source": [
    "from transformers import AutoTokenizer\n",
    "tokenizer = AutoTokenizer.from_pretrained('bert-base-cased')\n",
    "\n",
    "trainloader, testloader = unified.get_dataloader('grounded_emotions', tokenizer=tokenizer, shuffle=True)\n",
    "next(trainloader)"
   ]
  },
  {
   "cell_type": "code",
   "execution_count": 7,
   "metadata": {},
   "outputs": [
    {
     "output_type": "execute_result",
     "data": {
      "text/plain": [
       "'emoint'"
      ]
     },
     "metadata": {},
     "execution_count": 7
    }
   ],
   "source": [
    "from data.utils.sampling import dataset_sampler\n",
    "\n",
    "source_name = dataset_sampler(unified, sampling_method='sqrt')\n",
    "source_name"
   ]
  },
  {
   "cell_type": "code",
   "execution_count": 10,
   "metadata": {},
   "outputs": [
    {
     "output_type": "error",
     "ename": "StopIteration",
     "evalue": "Some classes ran out of data.",
     "traceback": [
      "\u001b[1;31m---------------------------------------------------------------------------\u001b[0m",
      "\u001b[1;31mStopIteration\u001b[0m                             Traceback (most recent call last)",
      "\u001b[1;32m<ipython-input-10-d0eaab77853c>\u001b[0m in \u001b[0;36m<module>\u001b[1;34m\u001b[0m\n\u001b[0;32m      1\u001b[0m \u001b[1;31m# Raises StopIteration when there is not enough data left to generate an N x K shot\u001b[0m\u001b[1;33m\u001b[0m\u001b[1;33m\u001b[0m\u001b[1;33m\u001b[0m\u001b[0m\n\u001b[0;32m      2\u001b[0m \u001b[1;32mwhile\u001b[0m \u001b[1;32mTrue\u001b[0m\u001b[1;33m:\u001b[0m\u001b[1;33m\u001b[0m\u001b[1;33m\u001b[0m\u001b[0m\n\u001b[1;32m----> 3\u001b[1;33m     \u001b[0mnext\u001b[0m\u001b[1;33m(\u001b[0m\u001b[0mtestloader\u001b[0m\u001b[1;33m)\u001b[0m\u001b[1;33m\u001b[0m\u001b[1;33m\u001b[0m\u001b[0m\n\u001b[0m",
      "\u001b[1;32mc:\\Users\\ivoon\\Documents\\GitHub\\meta-learning-emotion-detection\\data\\unified_emotion\\unified_stratified_loader.py\u001b[0m in \u001b[0;36m__next__\u001b[1;34m(self)\u001b[0m\n\u001b[0;32m     47\u001b[0m \u001b[1;33m\u001b[0m\u001b[0m\n\u001b[0;32m     48\u001b[0m         \u001b[1;32mif\u001b[0m \u001b[1;32mnot\u001b[0m \u001b[0mall\u001b[0m\u001b[1;33m(\u001b[0m\u001b[1;33m[\u001b[0m\u001b[0ml\u001b[0m \u001b[1;33m>\u001b[0m \u001b[0mself\u001b[0m\u001b[1;33m.\u001b[0m\u001b[0mk\u001b[0m \u001b[1;32mfor\u001b[0m \u001b[0ml\u001b[0m \u001b[1;32min\u001b[0m \u001b[0mself\u001b[0m\u001b[1;33m.\u001b[0m\u001b[0mlens\u001b[0m\u001b[1;33m(\u001b[0m\u001b[1;33m)\u001b[0m\u001b[1;33m]\u001b[0m\u001b[1;33m)\u001b[0m\u001b[1;33m:\u001b[0m\u001b[1;33m\u001b[0m\u001b[1;33m\u001b[0m\u001b[0m\n\u001b[1;32m---> 49\u001b[1;33m             \u001b[1;32mraise\u001b[0m \u001b[0mStopIteration\u001b[0m\u001b[1;33m(\u001b[0m\u001b[1;34m\"Some classes ran out of data.\"\u001b[0m\u001b[1;33m)\u001b[0m\u001b[1;33m\u001b[0m\u001b[1;33m\u001b[0m\u001b[0m\n\u001b[0m\u001b[0;32m     50\u001b[0m \u001b[1;33m\u001b[0m\u001b[0m\n\u001b[0;32m     51\u001b[0m         \u001b[0mtext\u001b[0m \u001b[1;33m=\u001b[0m \u001b[1;33m[\u001b[0m\u001b[1;33m]\u001b[0m\u001b[1;33m\u001b[0m\u001b[1;33m\u001b[0m\u001b[0m\n",
      "\u001b[1;31mStopIteration\u001b[0m: Some classes ran out of data."
     ]
    }
   ],
   "source": [
    "# Raises StopIteration when there is not enough data left to generate an N x K shot\n",
    "while True:\n",
    "    next(testloader)"
   ]
  }
 ]
}