{
 "metadata": {
  "language_info": {
   "codemirror_mode": {
    "name": "ipython",
    "version": 3
   },
   "file_extension": ".py",
   "mimetype": "text/x-python",
   "name": "python",
   "nbconvert_exporter": "python",
   "pygments_lexer": "ipython3",
   "version": "3.8.8"
  },
  "orig_nbformat": 2,
  "kernelspec": {
   "name": "python388jvsc74a57bd05807788318072d650ff7d3f12118168354b5d5c1b01788c0f8c7e03b8ca64544",
   "display_name": "Python 3.8.8 64-bit ('acts': conda)"
  }
 },
 "nbformat": 4,
 "nbformat_minor": 2,
 "cells": [
  {
   "source": [
    "# Data Pre-processing and dataloaders"
   ],
   "cell_type": "markdown",
   "metadata": {}
  },
  {
   "cell_type": "code",
   "execution_count": 1,
   "metadata": {},
   "outputs": [],
   "source": [
    "# Data source download: https://drive.google.com/file/d/1y7yjshepNRPhnh-Qz5MTRbnopGn7KzUm/view?usp=sharing\n",
    "# Originally from: https://github.com/sarnthil/unify-emotion-datasets"
   ]
  },
  {
   "cell_type": "code",
   "execution_count": 2,
   "metadata": {},
   "outputs": [],
   "source": [
    "from data.unified_emotion.unified_emotion import unified_emotion\n",
    "\n",
    "unified = unified_emotion(\"./data/datasets/unified-dataset.jsonl\")\n",
    "\n",
    "unified.prep()\n",
    "#unified.prep(text_tokenizer=manual_tokenizer)"
   ]
  },
  {
   "cell_type": "code",
   "execution_count": 3,
   "metadata": {},
   "outputs": [
    {
     "output_type": "execute_result",
     "data": {
      "text/plain": [
       "{'grounded_emotions': 2585,\n",
       " 'crowdflower': 40000,\n",
       " 'dailydialog': 102979,\n",
       " 'tales-emotion': 14771,\n",
       " 'tec': 21051,\n",
       " 'emoint': 7102}"
      ]
     },
     "metadata": {},
     "execution_count": 3
    }
   ],
   "source": [
    "unified.lens"
   ]
  },
  {
   "cell_type": "code",
   "execution_count": 4,
   "metadata": {},
   "outputs": [
    {
     "output_type": "stream",
     "name": "stdout",
     "text": [
      "grounded_emotions\n",
      "[\"@PennyDepp It's clearly the Irish missionaries going to Nigeria that brought their proverbs\", 'RT @PattyArquette: @realDonaldTrump You are a heartless Billionaire who has 3 residences. We pay more 2 protect UR wife in NY than Arts &amp; Mâ\\x80¦']\n",
      "\n",
      "crowdflower\n",
      "['@mitchelmusso', 'UGG WANT TO GO TO KAYLEN HOUSE BUT I CANT FINNA BE BORED THIS WEEKEND!!! UUURGG WANNA SPEND DA NITE  AND GO SEE UP AND GO SHOPPING', \"I don't know what my Mom gave me to clean my Macbook with but it is SO white now. It was tinted grayish blue from my black desk.\", \"Have to sell my car. It's costing me too much. Can now afford one rollerskate. Bye bye petey\", \"Alexia has clogged up twitter...... again.... so I thought I'd post a tweet. Um... Just had a shower!!  Now I will have a drink! Teehee...\", '@MotherBlanker I love brewing ideas! Great things always come from them.  keeping my fingers crossed for you!', 'unemployment office sucks', 'Cleaning the House! Im so boring..']\n",
      "\n",
      "dailydialog\n",
      "['What a bother having to climb storeys home every day .', 'sure .', \"I know . I'm a little nervous , but it's pretty exciting .\", \"Don't you think it's about time you got them working properly ?\", 'Really ?', \"I am awfully sorry . I didn't think you would mind so much .\", \"He is not answering . You'd better check his pulse and breathing .\"]\n",
      "\n",
      "tales-emotion\n",
      "['You should try how you would like to listen to all the trivial things in a court of justice.\"', 'I don\\'t want to talk to them, and it looks miserable here- that\\'s my opinion.\"', '\"Hum-a-bum! buzz! buzz!', 'Good gracious, what a quantity of gold there was! enough to buy all the sugar-sticks of the sweet-stuff women; all the tin soldiers, whips, and rocking-horses in the world, or even the whole town itself There was, indeed, an immense quantity.', 'Then the small peasant was brought before the mayor, and bidden to say from whence his wealth came.', 'The miser began to tell his tale, and said he had been robbed of his money.', 'If he dried his eyes with his nightcap, then the tear and the picture would be crushed; but the source of the tears remained and welled up again in his heart.']\n",
      "\n",
      "tec\n",
      "['Away from my desk for 25 minutes, and there are now 17 critical Adobe updates to install', 'lost my travel mug today', 'Eggs, pancakes, n bacon with @Chrissyynguyen', \"It's some sick people in this world... messin with lil boys,\", 'Some says is #Weakness i think its Something Normal were humans Not Gods , be Scared make mistakes the more Experience the more U Grow', '@charlottehanlan i agree, angry birds is exactly how it is described']\n",
      "\n",
      "emoint\n",
      "['@MagicalMunicorn May I suggest, that you have a meal that is made with beans, onions &amp; garlic, the day before class.', '@60DaysInJail Dafron is hands down the biggest loser on the planet!!! Typical #bully #lifer', 'Want Darren to open the video so he can appreciate my hilarity', \"@Simon_Barrett I will watch @BlairWitchMovie when it opens in Mexico in a week. Thank you for making it and don't be discouraged.\"]\n",
      "\n"
     ]
    }
   ],
   "source": [
    "for k in unified.lens.keys():\n",
    "    trainloader, testloader = unified.get_dataloader(k, k=1)\n",
    "    _, text = next(trainloader)\n",
    "    print(k)\n",
    "    print(text)\n",
    "    print()"
   ]
  },
  {
   "cell_type": "code",
   "execution_count": 5,
   "metadata": {},
   "outputs": [
    {
     "output_type": "execute_result",
     "data": {
      "text/plain": [
       "(tensor([1, 1, 1, 1, 0, 0, 0, 0]),\n",
       " tensor([[  101, 19387,  1030,  3021, 18098, 18632,  1024,  2644,  2157,  2085,\n",
       "           1998,  2228,  2055,  2023,  1012,  2256,  2406,  2003,  2085,  2641,\n",
       "          25135,  2000,  3942,  2011,  3010,  2611, 10158,  1012,  2003,  2023,\n",
       "           2637,  1029,  1037, 29649,   102,     0,     0,     0,     0,     0,\n",
       "              0,     0,     0,     0,     0,     0,     0,     0,     0,     0,\n",
       "              0,     0,     0,     0,     0],\n",
       "         [  101,  1030,  2771, 19658,  9628, 10732,  4806,  2003,  1996,  2069,\n",
       "           2126,  2000,  2147,  1016, 18150,  5886,  1012,  4807,  3084,  3071,\n",
       "           2468,  2149,  1012,  2057,  2024,  2149,  1006,  1996,  2088,  1007,\n",
       "           1004, 23713,  1025,  1045,  1005,  1049,  2025,  2358,  9397,  3070,\n",
       "            102,     0,     0,     0,     0,     0,     0,     0,     0,     0,\n",
       "              0,     0,     0,     0,     0],\n",
       "         [  101, 19387,  1030,  6289,  2906,  5092,  1024,  8398,  1005,  1055,\n",
       "           3493,  4802,  1010, 18255,  6182,  2099,  4205,  2632, 14949,  8791,\n",
       "           1010,  2003, 11884,  1012,  2036,  1010,  1037,  6011, 15185,  2003,\n",
       "           2025,  1037,  5961,  1012,  1001,  2396, 11263, 15683,  1001,  3493,\n",
       "          21572,  6299,  2497,  1001,  3493, 22779, 14660, 29649,   102,     0,\n",
       "              0,     0,     0,     0,     0],\n",
       "         [  101, 19387,  1030,  2540, 15909,  9286,  4783,  2906,  1024,  1012,\n",
       "           1030, 15339,  7382,  3126,  9447,  1030, 20643,  2638,  9333, 19690,\n",
       "           2003,  2069,  3621,  2625,  9643,  2084,  5076,  6521,  1012,   102,\n",
       "              0,     0,     0,     0,     0,     0,     0,     0,     0,     0,\n",
       "              0,     0,     0,     0,     0,     0,     0,     0,     0,     0,\n",
       "              0,     0,     0,     0,     0],\n",
       "         [  101,  2973,  2048,  2367,  3268,  1012,   102,     0,     0,     0,\n",
       "              0,     0,     0,     0,     0,     0,     0,     0,     0,     0,\n",
       "              0,     0,     0,     0,     0,     0,     0,     0,     0,     0,\n",
       "              0,     0,     0,     0,     0,     0,     0,     0,     0,     0,\n",
       "              0,     0,     0,     0,     0,     0,     0,     0,     0,     0,\n",
       "              0,     0,     0,     0,     0],\n",
       "         [  101,  2551,  1059,  1013,  8473,  5149, 11939,  1004, 23713,  1025,\n",
       "           2026,  2767,  1030,  2413,  2100,  2620,  2683, 27531,  2006,  1001,\n",
       "          25353, 12031,  2001,  2019,  9788,  3932,   999,  1001,  7344,  7361,\n",
       "          29513,  3372,  1030,  1996,  6371, 17119, 17854, 10441, 29649, 16770,\n",
       "           1024,  1013,  1013,  1056,  1012,  2522,  1013, 17712,  3995,  2243,\n",
       "           2278, 19716,  2100,  2480,   102],\n",
       "         [  101, 19387,  1030, 17217, 23499, 11387,  1024,  4748,  7856,  2102,\n",
       "           2404,  1037,  5787,  2006,  2054,  2064,  2022,  8885,  1012,  1037,\n",
       "           9353, 26378, 16033, 27921, 20726,   102,     0,     0,     0,     0,\n",
       "              0,     0,     0,     0,     0,     0,     0,     0,     0,     0,\n",
       "              0,     0,     0,     0,     0,     0,     0,     0,     0,     0,\n",
       "              0,     0,     0,     0,     0],\n",
       "         [  101, 19387,  1030, 17526,  2527, 27877,  1024, 13253,  3270,  3270,\n",
       "           3270,  3270,  3270,   999,   999,  1000, 10643,  2097,  2272,  2362,\n",
       "           1998,  3828,  1996,  2154,  1012,  1000,  2002,  1005,  1055,  6719,\n",
       "           1019,  2086,  2214,  1012,  1001,  5163, 20147,  8663,  4576, 16770,\n",
       "           1024,  1037, 29649,   102,     0,     0,     0,     0,     0,     0,\n",
       "              0,     0,     0,     0,     0]]),\n",
       " tensor([[1, 1, 1, 1, 1, 1, 1, 1, 1, 1, 1, 1, 1, 1, 1, 1, 1, 1, 1, 1, 1, 1, 1, 1,\n",
       "          1, 1, 1, 1, 1, 1, 1, 1, 1, 1, 1, 0, 0, 0, 0, 0, 0, 0, 0, 0, 0, 0, 0, 0,\n",
       "          0, 0, 0, 0, 0, 0, 0],\n",
       "         [1, 1, 1, 1, 1, 1, 1, 1, 1, 1, 1, 1, 1, 1, 1, 1, 1, 1, 1, 1, 1, 1, 1, 1,\n",
       "          1, 1, 1, 1, 1, 1, 1, 1, 1, 1, 1, 1, 1, 1, 1, 1, 1, 0, 0, 0, 0, 0, 0, 0,\n",
       "          0, 0, 0, 0, 0, 0, 0],\n",
       "         [1, 1, 1, 1, 1, 1, 1, 1, 1, 1, 1, 1, 1, 1, 1, 1, 1, 1, 1, 1, 1, 1, 1, 1,\n",
       "          1, 1, 1, 1, 1, 1, 1, 1, 1, 1, 1, 1, 1, 1, 1, 1, 1, 1, 1, 1, 1, 1, 1, 1,\n",
       "          1, 0, 0, 0, 0, 0, 0],\n",
       "         [1, 1, 1, 1, 1, 1, 1, 1, 1, 1, 1, 1, 1, 1, 1, 1, 1, 1, 1, 1, 1, 1, 1, 1,\n",
       "          1, 1, 1, 1, 1, 1, 0, 0, 0, 0, 0, 0, 0, 0, 0, 0, 0, 0, 0, 0, 0, 0, 0, 0,\n",
       "          0, 0, 0, 0, 0, 0, 0],\n",
       "         [1, 1, 1, 1, 1, 1, 1, 0, 0, 0, 0, 0, 0, 0, 0, 0, 0, 0, 0, 0, 0, 0, 0, 0,\n",
       "          0, 0, 0, 0, 0, 0, 0, 0, 0, 0, 0, 0, 0, 0, 0, 0, 0, 0, 0, 0, 0, 0, 0, 0,\n",
       "          0, 0, 0, 0, 0, 0, 0],\n",
       "         [1, 1, 1, 1, 1, 1, 1, 1, 1, 1, 1, 1, 1, 1, 1, 1, 1, 1, 1, 1, 1, 1, 1, 1,\n",
       "          1, 1, 1, 1, 1, 1, 1, 1, 1, 1, 1, 1, 1, 1, 1, 1, 1, 1, 1, 1, 1, 1, 1, 1,\n",
       "          1, 1, 1, 1, 1, 1, 1],\n",
       "         [1, 1, 1, 1, 1, 1, 1, 1, 1, 1, 1, 1, 1, 1, 1, 1, 1, 1, 1, 1, 1, 1, 1, 1,\n",
       "          1, 1, 0, 0, 0, 0, 0, 0, 0, 0, 0, 0, 0, 0, 0, 0, 0, 0, 0, 0, 0, 0, 0, 0,\n",
       "          0, 0, 0, 0, 0, 0, 0],\n",
       "         [1, 1, 1, 1, 1, 1, 1, 1, 1, 1, 1, 1, 1, 1, 1, 1, 1, 1, 1, 1, 1, 1, 1, 1,\n",
       "          1, 1, 1, 1, 1, 1, 1, 1, 1, 1, 1, 1, 1, 1, 1, 1, 1, 1, 1, 1, 0, 0, 0, 0,\n",
       "          0, 0, 0, 0, 0, 0, 0]]))"
      ]
     },
     "metadata": {},
     "execution_count": 5
    }
   ],
   "source": [
    "from transformers import AutoTokenizer\n",
    "tokenizer = AutoTokenizer.from_pretrained('bert-base-uncased')\n",
    "\n",
    "trainloader, testloader = unified.get_dataloader('grounded_emotions', tokenizer=tokenizer, shuffle=True)\n",
    "next(trainloader)"
   ]
  },
  {
   "cell_type": "code",
   "execution_count": 6,
   "metadata": {},
   "outputs": [
    {
     "output_type": "execute_result",
     "data": {
      "text/plain": [
       "'crowdflower'"
      ]
     },
     "metadata": {},
     "execution_count": 6
    }
   ],
   "source": [
    "from data.utils.sampling import dataset_sampler\n",
    "\n",
    "source_name = dataset_sampler(unified, sampling_method='sqrt')\n",
    "source_name"
   ]
  },
  {
   "cell_type": "code",
   "execution_count": 7,
   "metadata": {},
   "outputs": [
    {
     "output_type": "error",
     "ename": "StopIteration",
     "evalue": "Some classes ran out of data.",
     "traceback": [
      "\u001b[1;31m---------------------------------------------------------------------------\u001b[0m",
      "\u001b[1;31mStopIteration\u001b[0m                             Traceback (most recent call last)",
      "\u001b[1;32m<ipython-input-7-d0eaab77853c>\u001b[0m in \u001b[0;36m<module>\u001b[1;34m\u001b[0m\n\u001b[0;32m      1\u001b[0m \u001b[1;31m# Raises StopIteration when there is not enough data left to generate an N x K shot\u001b[0m\u001b[1;33m\u001b[0m\u001b[1;33m\u001b[0m\u001b[1;33m\u001b[0m\u001b[0m\n\u001b[0;32m      2\u001b[0m \u001b[1;32mwhile\u001b[0m \u001b[1;32mTrue\u001b[0m\u001b[1;33m:\u001b[0m\u001b[1;33m\u001b[0m\u001b[1;33m\u001b[0m\u001b[0m\n\u001b[1;32m----> 3\u001b[1;33m     \u001b[0mnext\u001b[0m\u001b[1;33m(\u001b[0m\u001b[0mtestloader\u001b[0m\u001b[1;33m)\u001b[0m\u001b[1;33m\u001b[0m\u001b[1;33m\u001b[0m\u001b[0m\n\u001b[0m",
      "\u001b[1;32mc:\\Users\\ivoon\\Documents\\GitHub\\meta-learning-emotion-detection\\data\\unified_emotion\\unified_stratified_loader.py\u001b[0m in \u001b[0;36m__next__\u001b[1;34m(self)\u001b[0m\n\u001b[0;32m     47\u001b[0m \u001b[1;33m\u001b[0m\u001b[0m\n\u001b[0;32m     48\u001b[0m         \u001b[1;32mif\u001b[0m \u001b[1;32mnot\u001b[0m \u001b[0mall\u001b[0m\u001b[1;33m(\u001b[0m\u001b[1;33m[\u001b[0m\u001b[0ml\u001b[0m \u001b[1;33m>\u001b[0m \u001b[0mself\u001b[0m\u001b[1;33m.\u001b[0m\u001b[0mk\u001b[0m \u001b[1;32mfor\u001b[0m \u001b[0ml\u001b[0m \u001b[1;32min\u001b[0m \u001b[0mself\u001b[0m\u001b[1;33m.\u001b[0m\u001b[0mlens\u001b[0m\u001b[1;33m(\u001b[0m\u001b[1;33m)\u001b[0m\u001b[1;33m]\u001b[0m\u001b[1;33m)\u001b[0m\u001b[1;33m:\u001b[0m\u001b[1;33m\u001b[0m\u001b[1;33m\u001b[0m\u001b[0m\n\u001b[1;32m---> 49\u001b[1;33m             \u001b[1;32mraise\u001b[0m \u001b[0mStopIteration\u001b[0m\u001b[1;33m(\u001b[0m\u001b[1;34m\"Some classes ran out of data.\"\u001b[0m\u001b[1;33m)\u001b[0m\u001b[1;33m\u001b[0m\u001b[1;33m\u001b[0m\u001b[0m\n\u001b[0m\u001b[0;32m     50\u001b[0m \u001b[1;33m\u001b[0m\u001b[0m\n\u001b[0;32m     51\u001b[0m         \u001b[0mtext\u001b[0m \u001b[1;33m=\u001b[0m \u001b[1;33m[\u001b[0m\u001b[1;33m]\u001b[0m\u001b[1;33m\u001b[0m\u001b[1;33m\u001b[0m\u001b[0m\n",
      "\u001b[1;31mStopIteration\u001b[0m: Some classes ran out of data."
     ]
    }
   ],
   "source": [
    "# Raises StopIteration when there is not enough data left to generate an N x K shot\n",
    "while True:\n",
    "    next(testloader)"
   ]
  },
  {
   "source": [
    "# Custom Tokenizer"
   ],
   "cell_type": "markdown",
   "metadata": {}
  },
  {
   "cell_type": "code",
   "execution_count": 8,
   "metadata": {},
   "outputs": [],
   "source": [
    "from data.utils.tokenizer import manual_tokenizer"
   ]
  },
  {
   "source": [
    "The raw data set"
   ],
   "cell_type": "markdown",
   "metadata": {}
  },
  {
   "cell_type": "code",
   "execution_count": 9,
   "metadata": {},
   "outputs": [
    {
     "output_type": "execute_result",
     "data": {
      "text/plain": [
       "['I opened my door and saw my niece and nephew',\n",
       " \"Just found out I'm going to Virginia on Christmas Day. #HolidayPlans\",\n",
       " 'i come home to find no one home',\n",
       " 'i love having perfect days on a monday.',\n",
       " \"@Zohair_Z for sure! and they've taken a nosedive since then kind of like EP after Irtiqa\",\n",
       " '@Maffica I ain tink he face fat he maybe tryin to get it fat',\n",
       " 'i need a vacation, junk food ,retail therapy, a biiiig hug , a bottle and a blunttt.',\n",
       " \"If Hogs were playin ANYONE but MS Valley State I'd let it slide for Mike Anderson Here's to 3.5 months of no Modern Family on time.\",\n",
       " \"Oh how I love working on homework til 11 o'clock at night\",\n",
       " 'â\\x80\\x8e525,600 minutes...how do you measure a year?   #sorrow #thankful #blessed #LOVE',\n",
       " 'Break! In a mountain meadow you see wild horses running free. Connect with them &amp; feel the freedom. #LJB',\n",
       " \"So instead of shopping like 92% of the population, tomorrow I'm doing nothing but applying for jobs. Oh and working..\",\n",
       " 'Bloom is now a fucking Food Lion.',\n",
       " 'WHY THE FUCK IS THIS MALL SO PACKED AT 2',\n",
       " 'I remember this feeling I remember me it for 6 years straight , now a year later it back',\n",
       " 'Yall heard abt that Penn State Coach molesting children ?',\n",
       " \"To walk into North Linn tuesday and have somebody walk up to me &amp; say 'Hello Jazz Marie'.\",\n",
       " 'Its a big distraction from our lives. They create the illusion of so we accept their Solutions. $$',\n",
       " '@LinziCurrie @markcurrie27 @pauldoc90 I have no memory from sat either and was also suicidal for a few days',\n",
       " \"when you want to go out with the guy you like but tells you he won't be interested after its over #firstdates\",\n",
       " 'Mayb I have no rite to b but I hate when ppl take my kindness for weakness',\n",
       " \"@JonLouis54180 @TANGELL0 I'm so getting in live stream chat when I get home!\",\n",
       " \"Wrote probably every feeling I've had these last 5 years in one song. I'll have the lyrics on Facebook soon.#Sadness #Rejuvenation\",\n",
       " 'If u fly off the handle easily and for silly reasons, you have Issues get help! Temporary solutions seldom work!']"
      ]
     },
     "metadata": {},
     "execution_count": 9
    }
   ],
   "source": [
    "trainloader, testloader = unified.get_dataloader('tec', shuffle=True)\n",
    "labels, text = next(trainloader)\n",
    "text"
   ]
  },
  {
   "source": [
    "The same, but now manually tokenized, sample"
   ],
   "cell_type": "markdown",
   "metadata": {}
  },
  {
   "cell_type": "code",
   "execution_count": 10,
   "metadata": {},
   "outputs": [
    {
     "output_type": "execute_result",
     "data": {
      "text/plain": [
       "['i opened my door and saw my niece and nephew',\n",
       " 'just found out i am going to virginia on christmas day . # holidayplans',\n",
       " 'i come home to find no one home',\n",
       " 'i love having perfect days on a monday .',\n",
       " '@USER for sure ! and they have taken a nosedive since then kind of like ep after irtiqa',\n",
       " '@USER i ain tink he face fat he maybe tryin to get it fat',\n",
       " 'i need a vacation , junk food , retail therapy , a biiiig hug , a bottle and a blunttt .',\n",
       " 'if hogs were playin anyone but ms valley state i d let it slide for mike anderson here s to 3 . 5 months of no modern family on time .',\n",
       " \"oh how i love working on homework til 11 o ' clock at night\",\n",
       " '\\u200e525 , 600 minutes ... how do you measure a year ? # sorrow # thankful # blessed # love',\n",
       " 'break ! in a mountain meadow you see wild horses running free . connect with them feel the freedom . # ljb',\n",
       " 'so instead of shopping like 92 % of the population , tomorrow i am doing nothing but applying for jobs . oh and working ..',\n",
       " 'bloom is now a fucking food lion .',\n",
       " 'why the fuck is this mall so packed at 2',\n",
       " 'i remember this feeling i remember me it for 6 years straight , now a year later it back',\n",
       " 'yall heard abt that penn state coach molesting children ?',\n",
       " 'to walk into north linn tuesday and have somebody walk up to me say hello jazz marie .',\n",
       " 'its a big distraction from our lives . they create the illusion of so we accept their solutions . $ $',\n",
       " '@USER @USER @USER i have no memory from sat either and was also suicidal for a few days',\n",
       " 'when you want to go out with the guy you like but tells you he will not be interested after its over # firstdates',\n",
       " 'mayb i have no rite to b but i hate when ppl take my kindness for weakness',\n",
       " '@USER @USER i am so getting in live stream chat when i get home !',\n",
       " 'wrote probably every feeling i have had these last 5 years in one song . i will have the lyrics on facebook soon .# sadness # rejuvenation',\n",
       " 'if u fly off the handle easily and for silly reasons , you have issues get help ! temporary solutions seldom work !']"
      ]
     },
     "metadata": {},
     "execution_count": 10
    }
   ],
   "source": [
    "list(map(manual_tokenizer, text))"
   ]
  },
  {
   "source": [
    "Can be easily slotted into the data loading process"
   ],
   "cell_type": "markdown",
   "metadata": {}
  },
  {
   "cell_type": "code",
   "execution_count": 11,
   "metadata": {},
   "outputs": [
    {
     "output_type": "stream",
     "name": "stdout",
     "text": [
      "Removed sentence for bad encoding.\n",
      "Removed sentence for bad encoding.\n",
      "Removed sentence for bad encoding.\n",
      "Removed sentence for bad encoding.\n",
      "Removed sentence for bad encoding.\n",
      "Removed sentence for bad encoding.\n",
      "Removed sentence for bad encoding.\n",
      "Removed sentence for bad encoding.\n",
      "Removed sentence for bad encoding.\n",
      "Removed sentence for bad encoding.\n",
      "Removed sentence for bad encoding.\n",
      "Removed sentence for bad encoding.\n",
      "Removed sentence for bad encoding.\n",
      "Removed sentence for bad encoding.\n",
      "Removed sentence for bad encoding.\n",
      "Removed sentence for bad encoding.\n",
      "Removed sentence for bad encoding.\n"
     ]
    }
   ],
   "source": [
    "unified.prep(text_tokenizer=manual_tokenizer)"
   ]
  },
  {
   "cell_type": "code",
   "execution_count": 12,
   "metadata": {},
   "outputs": [
    {
     "output_type": "stream",
     "name": "stdout",
     "text": [
      "grounded_emotions\n",
      "['rt @USER : trump wants $ 54b more for bombs while cutting meals on wheels . this is america , 2017 .', '@USER @USER @USER he s getting a kick back from the corporate insurance companies .. he s as dirty as trump']\n",
      "\n",
      "crowdflower\n",
      "['@USER i think 30 bucks and i dunno', 'got to clean the bathroom today .', 'up early this morning , first to portmeirion then home', 'last night s paper writing session = still not done . i need to prioritize better .', 'gah ! do not realize my meeting was from 9 - 12', '@USER but if you got hit by a car , who would make such lovely music ?', 'i am really mad at the world today . today is just a sucky day .', '@USER not if you have to be to work at six ...']\n",
      "\n",
      "dailydialog\n",
      "['a well - learned person never does that .', 'three years . they have been dating since freshman year . they are even talking about marriage .', 'you are welcome , bye !', 'i know . but i just can not stand her butting in when i was trying to emphasize a point .', 'really ? you are so kind .', 'what a pity !', 'umm . i think my water just broke ! get me to a hospital !']\n",
      "\n",
      "tales-emotion\n",
      "['when one of the chickens was swallowed down , and still her master did not come , gretel looked at the other and said : \" what one is , the other should be likewise , the two go together ; what \" s right for the one is right for the other ; i think if i were to take another draft it would do me no harm . \"', 'it smells sooty . \"', 'they looked so inviting that the children could not help stopping ; and they remained there so long eating , that their mouths and cheeks became quite black with the juice .', 'soon after , in the middle of the night , the goblin was awoke by a terrible noise and knocking against the window shutters and the house doors , and by the sound of the watchman s horn ; for a great fire had broken out , and the whole street appeared full of flames .', 'and the soldier broke a branch from each ; and every time there was a loud noise , which made the youngest sister tremble with fear ; but the eldest still said , it was only the princes , who were crying for joy .', '\" anna maria !', 'when he saw that it was impossible to reach her , he was greatly grieved , and said to himself , \" i will remain here and wait for her , \" so he built himself a little hut , and there he sat and watched for a whole year , and every day he saw the king \" s daughter driving round her castle , but still was unable to get nearer to her .']\n",
      "\n",
      "tec\n",
      "['me and mother putting up her christmas tree trying to have it decorated when dre comes ....', 'my feather just fell out of my hair in the shower ...', 'my house area is flooded like a swallow pool', '@USER ps there no spider nests in your car is there ? if there is then i will be driving not you hahaha', 'this would be the worse day for anyone to get blocked by @USER', 'is such a extreme emotion . one that which , acts as your controller . # control you anger , # dont let it control # you']\n",
      "\n",
      "emoint\n",
      "['clash of the titans and wrath of the titans :raising_hands: :medium-dark_skin_tone: :raising_hands: :medium-dark_skin_tone: :raising_hands: :medium-dark_skin_tone: :fire:', '@USER this is perfect example of why what paul said about her , was right . one of the most ignorant competitors i have seen . # bully # c $% t', 'mon celtic , give us something to cheer - place is empty , soaked its my wee nephew s birthday ffs , started well , now dropped off .', '@USER @USER\\\\n to good hearts i lost my job i am responsible 2 families my information in profile even dollar if can not just re - tweet']\n",
      "\n"
     ]
    }
   ],
   "source": [
    "for k in unified.lens.keys():\n",
    "    trainloader, testloader = unified.get_dataloader(k, k=1)\n",
    "    _, text = next(trainloader)\n",
    "    print(k)\n",
    "    print(text)\n",
    "    print()"
   ]
  }
 ]
}