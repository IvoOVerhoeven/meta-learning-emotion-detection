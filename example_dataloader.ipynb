{
 "metadata": {
  "language_info": {
   "codemirror_mode": {
    "name": "ipython",
    "version": 3
   },
   "file_extension": ".py",
   "mimetype": "text/x-python",
   "name": "python",
   "nbconvert_exporter": "python",
   "pygments_lexer": "ipython3",
   "version": "3.8.8"
  },
  "orig_nbformat": 2,
  "kernelspec": {
   "name": "python388jvsc74a57bd05807788318072d650ff7d3f12118168354b5d5c1b01788c0f8c7e03b8ca64544",
   "display_name": "Python 3.8.8 64-bit ('acts': conda)"
  }
 },
 "nbformat": 4,
 "nbformat_minor": 2,
 "cells": [
  {
   "source": [
    "# TODO\n",
    "## Unified Emotion\n",
    "- Remove samples with no-emotion class\n",
    "- Convert multiple labels to multiple examples with different labels\n",
    "- Come up with better assignment scheme for train/valid/test splits\n",
    "- Drop \"#SemST\" from ssec sentences\n",
    "\n",
    "## Go Emotions\n",
    "- Get rid of print when loading (low priority)\n",
    "- Include cases for manual tokenizer\n",
    "- Convert multiple labels to multiple examples with different labels (check with Luuk)\n",
    "\n",
    "## Manual Tokenizer\n",
    "- check if works for go emotion\n",
    "- incorporate special tokens into huggingface tokenizer\n",
    "\n",
    "## Dataloaders\n",
    "- loop Stratifiedloader for infinite sampling\n",
    "- Rewrite train script to use correct dataloaders"
   ],
   "cell_type": "markdown",
   "metadata": {}
  },
  {
   "cell_type": "code",
   "execution_count": 1,
   "metadata": {},
   "outputs": [],
   "source": [
    "import torch\n",
    "\n",
    "from data.utils.data_loader import StratifiedLoader, AdaptiveNKShotLoader"
   ]
  },
  {
   "source": [
    "# Datasets\n",
    "## Unified Emotion\n",
    "\n",
    "Data source download: https://drive.google.com/file/d/1y7yjshepNRPhnh-Qz5MTRbnopGn7KzUm/view?usp=sharing\n",
    "Originally from: https://github.com/sarnthil/unify-emotion-datasets\n",
    "\n",
    "\n",
    "Klinger, R. & Bostan, L. (2018, August). An analysis of annotated corpora for emotion classification in text. In Proceedings of the 27th International Conference on Computational Linguistics (pp. 2104-2119)."
   ],
   "cell_type": "markdown",
   "metadata": {}
  },
  {
   "cell_type": "code",
   "execution_count": 2,
   "metadata": {},
   "outputs": [
    {
     "output_type": "execute_result",
     "data": {
      "text/plain": [
       "                     source   size         domain  classes  \\\n",
       "0             affectivetext    250      headlines        6   \n",
       "1               crowdflower  40000         tweets       14   \n",
       "2               dailydialog  13000  conversations        6   \n",
       "3           electoraltweets   4058         tweets        8   \n",
       "4                   emobank  10000      headlines        3   \n",
       "5                    emoint   7097         tweets        6   \n",
       "6             emotion-cause   2414     artificial        6   \n",
       "7   fb-valence-arousal-anon   2800       facebook        3   \n",
       "8         grounded_emotions   2500         tweets        2   \n",
       "9                      ssec   4868         tweets        8   \n",
       "10            tales-emotion  15302     fairytales        6   \n",
       "11                      tec  21051         tweets        7   \n",
       "\n",
       "                          special  \n",
       "0   non-discrete, multiple labels  \n",
       "1      includes no-emotions class  \n",
       "2      includes no-emotions class  \n",
       "3      includes no-emotions class  \n",
       "4                  VAD regression  \n",
       "5            annotated by experts  \n",
       "6                             N/A  \n",
       "7                   VA regression  \n",
       "8                             N/A  \n",
       "9    multiple labels per sentence  \n",
       "10     includes no-emotions class  \n",
       "11           annotated by experts  "
      ],
      "text/html": "<div>\n<style scoped>\n    .dataframe tbody tr th:only-of-type {\n        vertical-align: middle;\n    }\n\n    .dataframe tbody tr th {\n        vertical-align: top;\n    }\n\n    .dataframe thead th {\n        text-align: right;\n    }\n</style>\n<table border=\"1\" class=\"dataframe\">\n  <thead>\n    <tr style=\"text-align: right;\">\n      <th></th>\n      <th>source</th>\n      <th>size</th>\n      <th>domain</th>\n      <th>classes</th>\n      <th>special</th>\n    </tr>\n  </thead>\n  <tbody>\n    <tr>\n      <th>0</th>\n      <td>affectivetext</td>\n      <td>250</td>\n      <td>headlines</td>\n      <td>6</td>\n      <td>non-discrete, multiple labels</td>\n    </tr>\n    <tr>\n      <th>1</th>\n      <td>crowdflower</td>\n      <td>40000</td>\n      <td>tweets</td>\n      <td>14</td>\n      <td>includes no-emotions class</td>\n    </tr>\n    <tr>\n      <th>2</th>\n      <td>dailydialog</td>\n      <td>13000</td>\n      <td>conversations</td>\n      <td>6</td>\n      <td>includes no-emotions class</td>\n    </tr>\n    <tr>\n      <th>3</th>\n      <td>electoraltweets</td>\n      <td>4058</td>\n      <td>tweets</td>\n      <td>8</td>\n      <td>includes no-emotions class</td>\n    </tr>\n    <tr>\n      <th>4</th>\n      <td>emobank</td>\n      <td>10000</td>\n      <td>headlines</td>\n      <td>3</td>\n      <td>VAD regression</td>\n    </tr>\n    <tr>\n      <th>5</th>\n      <td>emoint</td>\n      <td>7097</td>\n      <td>tweets</td>\n      <td>6</td>\n      <td>annotated by experts</td>\n    </tr>\n    <tr>\n      <th>6</th>\n      <td>emotion-cause</td>\n      <td>2414</td>\n      <td>artificial</td>\n      <td>6</td>\n      <td>N/A</td>\n    </tr>\n    <tr>\n      <th>7</th>\n      <td>fb-valence-arousal-anon</td>\n      <td>2800</td>\n      <td>facebook</td>\n      <td>3</td>\n      <td>VA regression</td>\n    </tr>\n    <tr>\n      <th>8</th>\n      <td>grounded_emotions</td>\n      <td>2500</td>\n      <td>tweets</td>\n      <td>2</td>\n      <td>N/A</td>\n    </tr>\n    <tr>\n      <th>9</th>\n      <td>ssec</td>\n      <td>4868</td>\n      <td>tweets</td>\n      <td>8</td>\n      <td>multiple labels per sentence</td>\n    </tr>\n    <tr>\n      <th>10</th>\n      <td>tales-emotion</td>\n      <td>15302</td>\n      <td>fairytales</td>\n      <td>6</td>\n      <td>includes no-emotions class</td>\n    </tr>\n    <tr>\n      <th>11</th>\n      <td>tec</td>\n      <td>21051</td>\n      <td>tweets</td>\n      <td>7</td>\n      <td>annotated by experts</td>\n    </tr>\n  </tbody>\n</table>\n</div>"
     },
     "metadata": {},
     "execution_count": 2
    }
   ],
   "source": [
    "import pandas as pd\n",
    "from data.unified_emotion import unified_emotion, unified_emotion_info\n",
    "\n",
    "pd.DataFrame(unified_emotion_info())"
   ]
  },
  {
   "source": [],
   "cell_type": "markdown",
   "metadata": {}
  },
  {
   "cell_type": "code",
   "execution_count": 3,
   "metadata": {},
   "outputs": [],
   "source": [
    "unified = unified_emotion(\"./data/datasets/unified-dataset.jsonl\",\\\n",
    "    include=['crowdflower', 'dailydialog', 'electoraltweets', 'emoint', 'emotion-cause', 'grounded_emotions', 'ssec', 'tec'])\n",
    "\n",
    "unified.prep()"
   ]
  },
  {
   "cell_type": "code",
   "execution_count": 4,
   "metadata": {},
   "outputs": [
    {
     "output_type": "execute_result",
     "data": {
      "text/plain": [
       "{'grounded_emotions': 2585,\n",
       " 'ssec': 4868,\n",
       " 'crowdflower': 40000,\n",
       " 'dailydialog': 102979,\n",
       " 'emotion-cause': 2414,\n",
       " 'tec': 21051,\n",
       " 'emoint': 7102,\n",
       " 'electoraltweets': 4056}"
      ]
     },
     "metadata": {},
     "execution_count": 4
    }
   ],
   "source": [
    "unified.lens"
   ]
  },
  {
   "cell_type": "code",
   "execution_count": 5,
   "metadata": {
    "tags": []
   },
   "outputs": [
    {
     "output_type": "stream",
     "name": "stdout",
     "text": [
      "grounded_emotions\n",
      "1 @realDonaldTrump @POTUS @IvankaTrump Mental health benefits removed from trumpcare. #trumpcare https://t.co/pE5a3YFh7Z\n",
      "0 RT @Tackspayer: @IorettaIynch @HITEXECUTIVE I'd prefer an unemployed Constitutional scholar, Barack Obama. The karma would be deliciously sâ¦\n",
      "\n",
      "ssec\n",
      "0 @brandileighhhhh its called sexual coercion, and it is the same as rape. #RapeCulture #SemST\n",
      "2 #Northwest #HeatWave continues. First time. Ever. My tomato plants have fruit. In JUNE! #Oregon #Organic #SemST\n",
      "3 Make sure to make it to the Brew House in Pella, IA tomorrow @ 3 to meet with @HillaryClinton supporters! #SemST\n",
      "1 The guy in the multicolored shirt looks chi as fuck. #SemST\n",
      "6 We are what we are. Nothing more, nothing less. #spirituality #SemST\n",
      "4 Pretend I'm a #tree and #save me. -babies everywhereyouthgen #SemST\n",
      "5 Serious question for my atheist libertarians: How can rights exist without God? #ChristianLibertarian #SemST\n",
      "\n",
      "crowdflower\n",
      "5 @jeffparks Good morning, sir\n",
      "6 Fell down the stairs at dancing, sword fell on me and now my bum hurts\n",
      "3 Happy Monday!  Lots of little things to do today!  Tried to water plants out front very early in jammies! Got caught by two neighbors!!\n",
      "2 And I wanted us to leave at 12:45 to do a 1 p.m. showing (staff retreat mini)\n",
      "7 @MusicLover_15 No, I haven't seen it yet!  But once it comes out on DVD.. ;) hehe. Haha\n",
      "4 Seeing lots of my FB friends are friending or becoming fans of Zoozoo (Voda's new face after the pug). Even iLike\n",
      "0 @trvsbrkr it's not working here\n",
      "1 Have I mentioned this bus was sloooow? on it for about one hour now\n",
      "\n",
      "dailydialog\n",
      "1 I must admit I'm not at all interested in math .\n",
      "4 Why don â t you find the information on the internet instead ?\n",
      "3 Good . I am here visiting my girlfriend . I want her to have a good time .\n",
      "0 Oh , you men ! You are all the same .\n",
      "6 Seriously ? But you are such a genius .\n",
      "5 I am sorry , sir . You bought it 2 weeks ago , and you can only refund it in one week .\n",
      "2 I'm afraid you are beginning to look a little overweight . You really need to stop smoking . That's the main reason you're unhealthy .\n",
      "\n",
      "emotion-cause\n",
      "3 He felt both elated and frightened . \n",
      "4 He stood there stoically , hiding his grief as Newlands announced he had received only twelve votes . \n",
      "5 She just looked up at him with bewildered eyes and he put her firmly away , turning to launch himself into the water . \n",
      "1 The horse , having been abandoned in the traces for twenty-four hours , was utterly disgruntled . \n",
      "0 Busking or playing musical instruments in the Underground , to the annoyance of other passengers , is an offence \n",
      "2 Also some disquiet surrounds the production of \" second generation \" vaccines using genetically engineered microbes to make fragments of viruses . \n",
      "\n",
      "tec\n",
      "5 @xkusayca ik heb ook miss 5 pakken chocola thuis en 2kg pepernoten maar ik mag er nieet aan zitten xD -.-\n",
      "4 what time is it???  time?? LOOL no, not a chance\n",
      "3 @Andrea_Malik sehh\n",
      "1 The conversation that @JDougherty82 and I are having on  is simply EPIC.\n",
      "2 â@RevRunWisdom not afraid of tomorrow, for I have seen yesterday and I love today #lessâ\n",
      "0 If u smack ur lips while u eat in my vicinity best believe I'll rip your face off and wear it to church.\n",
      "\n",
      "emoint\n",
      "0 ... flat party and I instantly get bollocked about it. #fuming\n",
      "1 The anxiety I have right nowð­ð­ð­\n",
      "2 @enews #breezy deserve it..\n",
      "3 @HutchinsonDave I don't know whether to despair or agitate for a cull.\n",
      "\n",
      "electoraltweets\n",
      "3 @davidjeremiah Barack Obama is a demon bent on destruction but Romney is too. Mormonism is the apostasy church that recreates Christ.\n",
      "0 @Norsu2 @IngrahamAngle Yes, Laura, you need more information about the man. Please do us all the favor. #tcot #mitt2012 #romney\n",
      "1 Feels like yesterday I was here in Concord, NH w/ @JoeBiden to sign official candidacy paperwork in Oct 2011 #VPinNH #4moreyears\n",
      "9 #GOP2012 I love @MichelleObama great speech tonight!! #DNC\n",
      "2 Dear #GOP Please think long &amp hard over the next 4 years, evaluate your direction &amp select an appropriate candidate for President in '16 #fb\n",
      "5 Glad we will be in center for @dnc. We have fought rain all week, we will welcome @BarackObama like there is 60k in the house!#Election2012\n",
      "8 My god the sheer number of people that drink the Kool Aid of the #GoP and #Democrats and think that they are different flavors is astounding\n",
      "4 #MyHomelessSignWouldSay VOTE FOR OBAMA OR BE PREPARED TO SEE ALOT MORE SIGNS LIKE THIS!!!\n",
      "7 I think Romney will bring us middle class blatantly down to the gutters but I feel like Obama is secretly up to no good.\n",
      "\n"
     ]
    }
   ],
   "source": [
    "for k in unified.lens.keys():\n",
    "    dataset = unified.datasets[k]['train']\n",
    "    trainloader = StratifiedLoader(dataset=dataset, device=torch.device('cpu'), k=1)\n",
    "    labels, text, _, _ = next(trainloader)\n",
    "    print(k)\n",
    "    for lab, sent in zip(labels, text):\n",
    "        print(lab, sent)\n",
    "    print()"
   ]
  },
  {
   "source": [
    "## GoEmotion"
   ],
   "cell_type": "markdown",
   "metadata": {}
  },
  {
   "cell_type": "code",
   "execution_count": 6,
   "metadata": {},
   "outputs": [
    {
     "output_type": "stream",
     "name": "stderr",
     "text": [
      "No config specified, defaulting to: go_emotions/simplified\n",
      "Reusing dataset go_emotions (C:\\Users\\ivoon\\.cache\\huggingface\\datasets\\go_emotions\\simplified\\0.0.0\\ef1c18ea192c771555f1e0d638889dd5f1896255782c57c6a0b934d5f94f779e)\n",
      "Loading cached processed dataset at C:\\Users\\ivoon\\.cache\\huggingface\\datasets\\go_emotions\\simplified\\0.0.0\\ef1c18ea192c771555f1e0d638889dd5f1896255782c57c6a0b934d5f94f779e\\cache-07a134cc41feca48.arrow\n",
      "Loading cached processed dataset at C:\\Users\\ivoon\\.cache\\huggingface\\datasets\\go_emotions\\simplified\\0.0.0\\ef1c18ea192c771555f1e0d638889dd5f1896255782c57c6a0b934d5f94f779e\\cache-d4dc7f7f3530d91a.arrow\n",
      "Loading cached processed dataset at C:\\Users\\ivoon\\.cache\\huggingface\\datasets\\go_emotions\\simplified\\0.0.0\\ef1c18ea192c771555f1e0d638889dd5f1896255782c57c6a0b934d5f94f779e\\cache-91437c43c19e5bec.arrow\n"
     ]
    },
    {
     "output_type": "execute_result",
     "data": {
      "text/plain": [
       "{'go_emotions': 36491}"
      ]
     },
     "metadata": {},
     "execution_count": 6
    }
   ],
   "source": [
    "from data.go_emotions import go_emotions\n",
    "\n",
    "go_emotion = go_emotions(first_label_only=True)\n",
    "go_emotion.prep()\n",
    "\n",
    "go_emotion.lens"
   ]
  },
  {
   "cell_type": "code",
   "execution_count": 7,
   "metadata": {},
   "outputs": [
    {
     "output_type": "stream",
     "name": "stderr",
     "text": [
      "No config specified, defaulting to: go_emotions/simplified\n",
      "Reusing dataset go_emotions (C:\\Users\\ivoon\\.cache\\huggingface\\datasets\\go_emotions\\simplified\\0.0.0\\ef1c18ea192c771555f1e0d638889dd5f1896255782c57c6a0b934d5f94f779e)\n",
      "Loading cached processed dataset at C:\\Users\\ivoon\\.cache\\huggingface\\datasets\\go_emotions\\simplified\\0.0.0\\ef1c18ea192c771555f1e0d638889dd5f1896255782c57c6a0b934d5f94f779e\\cache-07a134cc41feca48.arrow\n",
      "Loading cached processed dataset at C:\\Users\\ivoon\\.cache\\huggingface\\datasets\\go_emotions\\simplified\\0.0.0\\ef1c18ea192c771555f1e0d638889dd5f1896255782c57c6a0b934d5f94f779e\\cache-d4dc7f7f3530d91a.arrow\n",
      "Loading cached processed dataset at C:\\Users\\ivoon\\.cache\\huggingface\\datasets\\go_emotions\\simplified\\0.0.0\\ef1c18ea192c771555f1e0d638889dd5f1896255782c57c6a0b934d5f94f779e\\cache-91437c43c19e5bec.arrow\n"
     ]
    },
    {
     "output_type": "execute_result",
     "data": {
      "text/plain": [
       "{'go_emotions': 44208}"
      ]
     },
     "metadata": {},
     "execution_count": 7
    }
   ],
   "source": [
    "go_emotion = go_emotions(first_label_only=False)\n",
    "go_emotion.prep()\n",
    "\n",
    "go_emotion.lens"
   ]
  },
  {
   "cell_type": "code",
   "execution_count": 8,
   "metadata": {},
   "outputs": [
    {
     "output_type": "stream",
     "name": "stdout",
     "text": [
      "go_emotions\n2 Whaaaaaaat the heck was that?\n14 I agree with you, but you know, sharia *is* sharia, which I find a tad more frightening \n3 You finna be nauseous as hell man, Dont stress it though just throw up\n26 OMG what??? ...[NAME] actually showed up for a gig without cancelling with a terrible excuse?\n15 Nah I'm good thanks, I still got Netflix and the Pirate Bay\n8 Just got the Ultimate edition and it's already my favourite game of all time. I just wish everyone could agree [NAME] is best girl\n20 No problem mate. If you're looking for activities, give these boys a look: \n0 I think it doesn't have to be only in school, but anyway, good attitude, I'm sure you can overcome it (with patience)\n6 they might have seen me pooping\n1 It's an mi5 threat to Ireland. Funny how [NAME] may wants to amend GFA the next day\n4 Hmm. I don't disagree. It's unfortunate.\n5 Wish you the best of luck and greener pastures!\n12 What a cringeworthy load of kak this is. Wow I have no words.\n22 I think the only person who needs to leave is you.\n16 I am so sorry to hear about your wife’s tragic injury.\n25 The “sad [NAME]” tops it off\n7 are they worried their dog will get autism or something?\n17 Good for you man. Enjoy.\n18 I love Florida\n13 [NAME] and [NAME] are the only reason to tune in at this point. Happy birthday!\n10 Nope, not my department.\n9 I feel like this happens to me every single time I shop there. I dont go in anymore because I'm tired of being followed.\n24 My whole life’s been a lie\n11 That looks disgusting.\n23 yes and I'm glad that this nonsense stops with me\n21 Wow OP sounds like you're really skilled at opening your legs, you're parents should be proud of you, STI and all.\n19 Im always worrying about the same thing, thats why Im always posting and within hours freaking out and deleting my posts \n\n"
     ]
    }
   ],
   "source": [
    "for k in go_emotion.lens.keys():\n",
    "    dataset = go_emotion.datasets[k]['train']\n",
    "    trainloader = StratifiedLoader(dataset=dataset, device=torch.device('cpu'), k=1)\n",
    "    labels, text, _, _ = next(trainloader)\n",
    "    print(k)\n",
    "    for lab, sent in zip(labels, text):\n",
    "        print(lab, sent)\n",
    "    print()"
   ]
  },
  {
   "source": [
    "# Custom Tokenizer\n",
    "Here we define some rules for manually cleaning the imported data.\n",
    "Given this is all internet sourced, it's strongly recommended to define something at least.\n",
    "Current manual tokenizer will:\n",
    "- Correct the text encodings\n",
    "- Align contractions with BERT tokenizers\n",
    "- Handles emojis (using emoji package) and twitter handles\n",
    "- Deals with some edge cases where Spacy's tokenizer fails"
   ],
   "cell_type": "markdown",
   "metadata": {}
  },
  {
   "cell_type": "code",
   "execution_count": 9,
   "metadata": {},
   "outputs": [],
   "source": [
    "from transformers import AutoTokenizer, AutoModel\n",
    "\n",
    "from data.utils.tokenizer import manual_tokenizer\n",
    "\n",
    "tokenizer = AutoTokenizer.from_pretrained('bert-base-uncased')\n",
    "tokenizer.additional_special_tokens = [\"HTTPURL\", \"@USER\"]"
   ]
  },
  {
   "source": [
    "The raw data"
   ],
   "cell_type": "markdown",
   "metadata": {}
  },
  {
   "cell_type": "code",
   "execution_count": 10,
   "metadata": {},
   "outputs": [
    {
     "output_type": "execute_result",
     "data": {
      "text/plain": [
       "['I know you @spinaltap https://t.co/ny8EdRLthF',\n",
       " \"https://t.co/on7RtxSkOl HOW MANY MORE WAYS CAN #45 SHOW US HE DOESN'T GIVE A FUCK ABOUT AMERICA(NS)! He's doing all he can to hurt us!!\",\n",
       " \"RT @PhyllisSilver: Andy: Can't say it better than Gump...Stupid is as stupid does! These cuts are #PennyWiseAndPoundFoolish They will costâ\\x80¦\",\n",
       " \"@jonfavs he has no clue. Like all the EO's.\",\n",
       " 'RT @CreativeFuture: Photographer Spencer Amonwatvorakul talks about quitting his day job for his dream #StandCreative2 https://t.co/ToJcRG1â\\x80¦',\n",
       " \"My #TMCð\\x9f\\x87ºð\\x9f\\x87¸ð\\x9f\\x98\\x8e, U have been on pointâ\\x9c\\x85ð\\x9f\\x94¥!Exemplary comebacks &amp; brilliant original content!Doesn't get any better than that!!Getting caught upâ\\x98ºï¸\\x8fð\\x9f\\x87ºð\\x9f\\x87¸.\",\n",
       " 'RT @petermaer: #Oklahoma authorities get Shortey.  #GOP state senator, former #Trump coordinator faces child prostitution charges. https:/â\\x80¦',\n",
       " 'RT @NastyResister: @SecPriceMD @POTUS @DanaBashCNN @wolfblitzer They should take your medical license for violating your oath. \" First do nâ\\x80¦',\n",
       " 'That is truly sickening! To quote @realDonaldTrump #Bad #Sad https://t.co/CdsRrTtpFo',\n",
       " \"@Donnabee511 Really? That's stunning. What to the doctors say?\",\n",
       " \"@realDonaldTrump @PressSec You're making yourself look like an ass.  Way to end a good career. #LIAR\",\n",
       " 'RT @ElementsMatter: Moldy Church Records in Latin America Document the Lives of Millions of Slaves  https://t.co/nTHD5dvtgq',\n",
       " 'Are you beginning to see the pattern here as huntsman hits the Moscow rich boys club? https://t.co/baD4UarAzd',\n",
       " 'RT @QP_West: Our new series discusses team branding, and @LostBoysQC have had success in that area that surpasses most https://t.co/DgSbvajâ\\x80¦',\n",
       " '@Clever_Burro @abc7briwinkler prettyyyy sky',\n",
       " \"Emma looks great.She's smart, well educated, &amp; she's has the right 2 be whatever she wants to be. Feminist great https://t.co/CECmhgBBzh\"]"
      ]
     },
     "metadata": {},
     "execution_count": 10
    }
   ],
   "source": [
    "dataset = unified.datasets['grounded_emotions']['train']\n",
    "trainloader = StratifiedLoader(dataset=dataset, device=torch.device('cpu'), k=8)\n",
    "\n",
    "labels, text, _, _ = next(trainloader)\n",
    "text"
   ]
  },
  {
   "source": [
    "The same, but now manually tokenized, sample"
   ],
   "cell_type": "markdown",
   "metadata": {}
  },
  {
   "cell_type": "code",
   "execution_count": 11,
   "metadata": {},
   "outputs": [
    {
     "output_type": "execute_result",
     "data": {
      "text/plain": [
       "['i know you @USER HTTPURL',\n",
       " \"HTTPURL how many more ways can # 45 show us he doesn ' t give a fuck about america ( ns ) ! he s doing all he can to hurt us ! !\",\n",
       " 'rt @USER : andy : can not say it better than gump ... stupid is as stupid does ! these cuts are # pennywiseandpoundfoolish they will cost ...',\n",
       " '@USER he has no clue . like all the eo s .',\n",
       " 'rt @USER : photographer spencer amonwatvorakul talks about quitting his day job for his dream # standcreative2 HTTPURL ...',\n",
       " \"my # tmc 🇺 🇸 :smiling_face_with_sunglasses: , u have been on point :check_mark_button: :fire: !exemplary comebacks brilliant original content ! doesn ' t get any better than that !! getting caught up :smiling_face:  🇺 🇸 .\",\n",
       " 'rt @USER : # oklahoma authorities get shortey . # gop state senator , former # trump coordinator faces child prostitution charges . https :/ ...',\n",
       " 'rt @USER : @USER @USER @USER @USER they should take your medical license for violating your oath . \" first do n ...',\n",
       " 'that is truly sickening ! to quote @USER # bad # sad HTTPURL',\n",
       " '@USER really ? that s stunning . what to the doctors say ?',\n",
       " '@USER @USER you are making yourself look like an ass . way to end a good career . # liar',\n",
       " 'rt @USER : moldy church records in latin america document the lives of millions of slaves HTTPURL',\n",
       " 'are you beginning to see the pattern here as huntsman hits the moscow rich boys club ? HTTPURL',\n",
       " 'rt @USER : our new series discusses team branding , and @USER have had success in that area that surpasses most HTTPURL ...',\n",
       " '@USER @USER prettyyyy sky',\n",
       " 'emma looks great . she s smart , well educated , she s has the right 2 be whatever she wants to be . feminist great HTTPURL']"
      ]
     },
     "metadata": {},
     "execution_count": 11
    }
   ],
   "source": [
    "list(map(manual_tokenizer, text))"
   ]
  },
  {
   "source": [
    "Can be easily slotted into the data loading process\n",
    "Does quite a lot longer though..."
   ],
   "cell_type": "markdown",
   "metadata": {}
  },
  {
   "cell_type": "code",
   "execution_count": 12,
   "metadata": {
    "tags": []
   },
   "outputs": [
    {
     "output_type": "stream",
     "name": "stdout",
     "text": [
      "Removed sentence for bad encoding.\n",
      "Removed sentence for bad encoding.\n",
      "Removed sentence for bad encoding.\n",
      "Removed sentence for bad encoding.\n",
      "Removed sentence for bad encoding.\n",
      "Removed sentence for bad encoding.\n",
      "Removed sentence for bad encoding.\n",
      "Removed sentence for bad encoding.\n",
      "Removed sentence for bad encoding.\n",
      "Removed sentence for bad encoding.\n",
      "Removed sentence for bad encoding.\n",
      "Removed sentence for bad encoding.\n",
      "Removed sentence for bad encoding.\n",
      "Removed sentence for bad encoding.\n",
      "Removed sentence for bad encoding.\n",
      "Removed sentence for bad encoding.\n",
      "Removed sentence for bad encoding.\n"
     ]
    }
   ],
   "source": [
    "# Use below if you additionally want to limit sentences to those that overlap well with BERT\n",
    "# Not recommended for initial training \n",
    "#unified.prep(text_tokenizer=manual_tokenizer, text_tokenizer_kwargs={'bert_vocab': tokenizer.vocab.keys(), 'OOV_cutoff' :0.5, 'verbose':True})\n",
    "\n",
    "unified.prep(text_tokenizer=manual_tokenizer)"
   ]
  },
  {
   "cell_type": "code",
   "execution_count": 13,
   "metadata": {
    "tags": []
   },
   "outputs": [
    {
     "output_type": "stream",
     "name": "stdout",
     "text": [
      "\n",
      "Example data\n",
      "grounded_emotions\n",
      "sadness [CLS] @ user what regulations caused harm to remington? thank you. [SEP]\n",
      "joy [CLS] i am doing it!! @ user @ user # atmosphereplus # socool # nbavirginnomore # staplescenter... httpurl [SEP]\n",
      "\n",
      "ssec\n",
      "anger [CLS] ( it s just a night watcheasy to set up. staggered pickets ( google it ) work best ) # whoisburningblackchurches # semst [SEP]\n",
      "fear [CLS] rosalind peterson addressing un on how aerosol spraying ( chemtrails ) is affecting agriculture. # notadebate # geoengineering # semst [SEP]\n",
      "joy [CLS] coming from a female that was taken away the ability to have children. i still believe women should have the ability to choose. # semst [SEP]\n",
      "disgust [CLS] i don't buy a dress that i can not completely zip up and fasten on my own. # semst [SEP]\n",
      "trust [CLS] people who have been pregnant can be pro choice. people who can not have kids can be pro choice. people who have a uterus can be # semst [SEP]\n",
      "sadness [CLS] pretend i am a # tree and # save me. - babies everywhereyouthgen # semst [SEP]\n",
      "surprise [CLS] the # mntwins game is going really fast tonight. more proof of # semst [SEP]\n",
      "\n",
      "crowdflower\n",
      "noemo [CLS] rain!!!!!!!!!!!! aaaaaaaaaahhhhhhhh! i am going to melt. damn it s cold. freakin cold. brrrrrr [SEP]\n",
      "sadness [CLS] @ user why i ai not on ur # ff list? i m hurt [SEP]\n",
      "joy [CLS] i love the dreambears!.. i want a gay best friend! [SEP]\n",
      "fear [CLS] @ user you are still welcome - the door s wide enough for your zimmer frame [SEP]\n",
      "surprise [CLS] omg... did i just see a tweet from miss bonnie??? amazing... my phone died yesterday... and oster has alltel i miss you [SEP]\n",
      "love [CLS] watching chelsea lately! loveeeee her 3 [SEP]\n",
      "anger [CLS] i really ai not woth a f * ck. i can not do anythin right. what s wrong with me? [SEP]\n",
      "disgust [CLS] fml. forgot alli s dance recital is tonight. now i am stuck talking to munchkins all night instead of being at devon s bonfire. : / [SEP]\n",
      "\n",
      "dailydialog\n",
      "disgust [CLS] i get antsy not because you praise a guy, but because you may be taken for a ride by a guy like him. [SEP]\n",
      "noemo [CLS] i prefer summer, especially the summer evenings. when the sun comes down, it is so nice to take a walk and breathe. after a rain shower, the smell of the air is refreshing. it is also a best reason for ice - cream. [SEP]\n",
      "joy [CLS] it s time to go and i hope we can get together again soon. [SEP]\n",
      "anger [CLS] the heating controls don't work anymore, so it always feels like it s about 100 degrees in the car - even in the summer! [SEP]\n",
      "surprise [CLS] did you? and what did you study? [SEP]\n",
      "sadness [CLS] i d love to, but i am afraid i can not. [SEP]\n",
      "fear [CLS] but, dad, it s stormy outside. [SEP]\n",
      "\n",
      "emotion-cause\n",
      "joy [CLS] \" debbie would be pleased, \" she said. [SEP]\n",
      "sadness [CLS] then he relaxes into a sorrowful smile, like when you remember someone you loved who died a long time ago. [SEP]\n",
      "surprise [CLS] he looked quite nonplussed. [SEP]\n",
      "disgust [CLS] senator sherman had shot marginally less well than his son and was openly disgruntled about this. [SEP]\n",
      "anger [CLS] my hands dart indignantly about my desk as if they were offended mice, opening files, annotating minutes, picking up the receiver. [SEP]\n",
      "fear [CLS] he seemed agitated, restlessly pacing about, looking out into the crowds, then drawing back into the shelter of the arcade. [SEP]\n",
      "\n",
      "tec\n",
      "surprise [CLS] 48 hours and a few minutes until is over. forget what my upper lip looks like. [SEP]\n",
      "sadness [CLS] when you run out of the thing you want, and you are broke. [SEP]\n",
      "joy [CLS] let us stop beating around the bush [SEP]\n",
      "disgust [CLS] the conversation that @ user and i are having on is simply epic. [SEP]\n",
      "fear [CLS], updating my uefi bios tomorrow, first time the new one [SEP]\n",
      "anger [CLS] an enraged person only gets angrier when you say \" i completely understand. \" [SEP]\n",
      "\n",
      "emoint\n",
      "anger [CLS] lgbtq media should inform, inspire, entertain unite our community. it should not give platform 2 those whose goal is 2 offend us 4 attention [SEP]\n",
      "fear [CLS] @ user the irony is that those protesting about this kind of stuff are the orwellian nightmare they think they are fighting against. [SEP]\n",
      "joy [CLS] @ user no okay you don't not need to be going out of your way to make sure you are pleasing everyone do what makes you happy [SEP]\n",
      "sadness [CLS] a moment : \\ nif you kill it in the spirit, it will die in the natural!!!'- @ user # murder # suicide # depression # racism # pride [SEP]\n",
      "\n",
      "electoraltweets\n",
      "disgust [CLS] @ user the appropriate toy 4 romney is not an etch a sketch its silly putty. he will take on any form given to him by a misguided gop. [SEP]\n",
      "anger [CLS] will obama fire the person responsible for this statement?... misguided individuals to hurt the religious feelings of muslims [SEP]\n",
      "anticipation [CLS] i am going to start saying henry merritt paulson the third with the same disdain as the barack hussein obama people. [SEP]\n",
      "trust [CLS] really fantastic video - mitt romney and a gay vietnam vet talk over new hampshire s gay marriage policy # gayrights # election2012 [SEP]\n",
      "confusion [CLS] remember how i read romney / ryan slash why did i do that [SEP]\n",
      "joy [CLS] we toke care of business in 2008 now it s time to do the same in 2012!! # 4moreyears # obamaordie? obama accomplishments? [SEP]\n",
      "surprise [CLS] saw a headline on my phone that obama is leaning toward ryan s education plan... say what? what? me thinks i just saw a pig flyin [SEP]\n",
      "fear [CLS] neither dem nor rep - nor muslim - is reliable voice on jesus politics. mt @ user the # gop of today is the antithesis of # christ. [SEP]\n",
      "sadness [CLS] i think romney will bring us middle class blatantly down to the gutters but i feel like obama is secretly up to no good. [SEP]\n",
      "\n"
     ]
    }
   ],
   "source": [
    "print('\\nExample data')\n",
    "for k in unified.lens.keys():\n",
    "    dataset = unified.datasets[k]['train']\n",
    "    trainloader = StratifiedLoader(dataset=dataset, device=torch.device('cpu'), k=1)\n",
    "\n",
    "    labels, text, _, _ = next(trainloader)\n",
    "    print(k)\n",
    "\n",
    "    label_map = {v: k for k, v in unified.label_map[k].items()}\n",
    "    tokenized_texts = list(map(tokenizer.decode, tokenizer(text)['input_ids']))\n",
    "    for txt, label in zip(tokenized_texts, labels):\n",
    "        print(label_map[label], txt)\n",
    "    print()"
   ]
  },
  {
   "cell_type": "code",
   "execution_count": 14,
   "metadata": {},
   "outputs": [],
   "source": [
    "#go_emotion.prep(text_tokenizer=manual_tokenizer)"
   ]
  },
  {
   "source": [
    "# Sampling\n",
    "## Dataset sampling"
   ],
   "cell_type": "markdown",
   "metadata": {}
  },
  {
   "cell_type": "code",
   "execution_count": 15,
   "metadata": {},
   "outputs": [
    {
     "output_type": "execute_result",
     "data": {
      "text/plain": [
       "'dailydialog'"
      ]
     },
     "metadata": {},
     "execution_count": 15
    }
   ],
   "source": [
    "from data.utils.sampling import dataset_sampler\n",
    "\n",
    "source_name = dataset_sampler(unified, sampling_method='sqrt')\n",
    "source_name"
   ]
  },
  {
   "source": [
    "## Dataloaders\n",
    "Changed somewhat from last time. \n",
    "\n",
    "Now dataloaders must be generated manually using specific dataset (dict with labels as keys, lists of examples as values).\n",
    "\n",
    "Samples from data and returns **both** the support and query.\n",
    "\n",
    "Thus,\n",
    "\n",
    "IN: dataset\n",
    "\n",
    "OUT: support labels, support text, query labels, query text\n",
    "\n",
    "If Huggingface tokenizer is passed, text is full model input (attention masks, token types, etc.)\n",
    "\n",
    "Can be fed into model as,\n",
    "\n",
    "```\n",
    "model(**text)\n",
    "```\n",
    "\n",
    "### Stratified Sampling\n",
    "Traditional N-way k-shot, balanced across classes.\n",
    "\n",
    "Requires manually specifying k, which corresponds to batch size."
   ],
   "cell_type": "markdown",
   "metadata": {}
  },
  {
   "cell_type": "code",
   "execution_count": 16,
   "metadata": {},
   "outputs": [],
   "source": [
    "from collections import Counter\n",
    "\n",
    "from data.utils.data_loader import StratifiedLoader, AdaptiveNKShotLoader"
   ]
  },
  {
   "cell_type": "code",
   "execution_count": 17,
   "metadata": {},
   "outputs": [],
   "source": [
    "dataset = unified.datasets['ssec']['train']\n",
    "trainloader = StratifiedLoader(dataset=dataset, device=torch.device('cpu'), k=16)\n",
    "support_labels, support_text, query_labels, query_text = next(trainloader)"
   ]
  },
  {
   "cell_type": "code",
   "execution_count": 18,
   "metadata": {},
   "outputs": [
    {
     "output_type": "execute_result",
     "data": {
      "text/plain": [
       "Counter({0: 16, 2: 16, 3: 16, 1: 16, 6: 16, 4: 16, 5: 16})"
      ]
     },
     "metadata": {},
     "execution_count": 18
    }
   ],
   "source": [
    "Counter(support_labels)"
   ]
  },
  {
   "cell_type": "code",
   "execution_count": 19,
   "metadata": {},
   "outputs": [
    {
     "output_type": "execute_result",
     "data": {
      "text/plain": [
       "Counter({0: 16, 2: 16, 3: 16, 1: 16, 6: 16, 4: 16, 5: 15})"
      ]
     },
     "metadata": {},
     "execution_count": 19
    }
   ],
   "source": [
    "Counter(query_labels)"
   ]
  },
  {
   "cell_type": "code",
   "execution_count": 20,
   "metadata": {},
   "outputs": [],
   "source": [
    "#while True:\n",
    "#    next(trainloader)"
   ]
  },
  {
   "source": [
    "### Adaptive N-way k-shot\n",
    "Dataloader with adaptive/stochastic N-way, k-shot batches.\n",
    "\n",
    "Support set has random number of examples per class, although proportional to class size.\n",
    "\n",
    "Query set is always balanced.\n",
    "\n",
    "Not all classes are present if more than 5 classes are present in the dataset.\n",
    "\n",
    "Algorithm taken from:\n",
    "\n",
    "    Triantafillou et al. (2019). Meta-dataset: A dataset of datasets for learning to learn from few examples. arXiv preprint arXiv:1903.03096.\n",
    "\n",
    "Steps are as follows:\n",
    "    \n",
    "1. Sample subset of classes (min 5, max all classes)\n",
    "    \n",
    "2. Define query set size (max 10 per class)\n",
    "    \n",
    "3. Define support set size (max 128 for all)\n",
    "    \n",
    "4. Fill support set with samples, stochastically proportional to support set size\n",
    "    \n",
    "5. Fill query set with remaining samples\n"
   ],
   "cell_type": "markdown",
   "metadata": {}
  },
  {
   "cell_type": "code",
   "execution_count": 21,
   "metadata": {},
   "outputs": [],
   "source": [
    "dataset = unified.datasets['ssec']['train']\n",
    "trainloader = AdaptiveNKShotLoader(dataset=dataset, device=torch.device('cpu'), max_support_size=128)\n",
    "support_labels, support_text, query_labels, query_text = next(trainloader)"
   ]
  },
  {
   "cell_type": "code",
   "execution_count": 22,
   "metadata": {},
   "outputs": [
    {
     "output_type": "execute_result",
     "data": {
      "text/plain": [
       "Counter({4: 3, 6: 3, 0: 84, 5: 2, 3: 25, 2: 8})"
      ]
     },
     "metadata": {},
     "execution_count": 22
    }
   ],
   "source": [
    "Counter(support_labels)"
   ]
  },
  {
   "cell_type": "code",
   "execution_count": 23,
   "metadata": {},
   "outputs": [
    {
     "output_type": "execute_result",
     "data": {
      "text/plain": [
       "Counter({4: 10, 6: 10, 0: 10, 5: 10, 3: 10, 2: 10})"
      ]
     },
     "metadata": {},
     "execution_count": 23
    }
   ],
   "source": [
    "Counter(query_labels)"
   ]
  }
 ]
}