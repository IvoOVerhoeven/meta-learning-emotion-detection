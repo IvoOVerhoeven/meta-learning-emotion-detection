{
 "metadata": {
  "language_info": {
   "codemirror_mode": {
    "name": "ipython",
    "version": 3
   },
   "file_extension": ".py",
   "mimetype": "text/x-python",
   "name": "python",
   "nbconvert_exporter": "python",
   "pygments_lexer": "ipython3",
   "version": "3.8.8"
  },
  "orig_nbformat": 2,
  "kernelspec": {
   "name": "python388jvsc74a57bd05807788318072d650ff7d3f12118168354b5d5c1b01788c0f8c7e03b8ca64544",
   "display_name": "Python 3.8.8 64-bit"
  }
 },
 "nbformat": 4,
 "nbformat_minor": 2,
 "cells": [
  {
   "source": [
    "# Data Pre-processing and dataloaders"
   ],
   "cell_type": "markdown",
   "metadata": {}
  },
  {
   "cell_type": "code",
   "execution_count": 1,
   "metadata": {},
   "outputs": [],
   "source": [
    "# Data source download: https://drive.google.com/file/d/1y7yjshepNRPhnh-Qz5MTRbnopGn7KzUm/view?usp=sharing\n",
    "# Originally from: https://github.com/sarnthil/unify-emotion-datasets"
   ]
  },
  {
   "cell_type": "code",
   "execution_count": 2,
   "metadata": {},
   "outputs": [],
   "source": [
    "from data.unified_emotion.unified_emotion import unified_emotion\n",
    "\n",
    "unified = unified_emotion(\"./data/datasets/unified-dataset.jsonl\")\n",
    "\n",
    "unified.prep()"
   ]
  },
  {
   "cell_type": "code",
   "execution_count": 3,
   "metadata": {},
   "outputs": [
    {
     "output_type": "execute_result",
     "data": {
      "text/plain": [
       "{'grounded_emotions': 2585,\n",
       " 'ssec': 4868,\n",
       " 'crowdflower': 40000,\n",
       " 'dailydialog': 102979,\n",
       " 'tales-emotion': 14771,\n",
       " 'tec': 21051,\n",
       " 'emoint': 7102}"
      ]
     },
     "metadata": {},
     "execution_count": 3
    }
   ],
   "source": [
    "unified.lens"
   ]
  },
  {
   "cell_type": "code",
   "execution_count": 4,
   "metadata": {},
   "outputs": [
    {
     "output_type": "execute_result",
     "data": {
      "text/plain": [
       "([0, 0, 0, 0, 1, 1, 1, 1, 2, 2, 2, 2, 3, 3, 3, 3],\n",
       " ['@rtrn94 Mine is that the party did decide but the party has been slowly transformed into a vengeful hell-cult of white male resentment',\n",
       "  '@coltonflurry @StrangeFacesLA I cancelled by CBS all access live feeds before JC even said Vic won AFP. Paul.should have won IMO #bitter',\n",
       "  '@fluffysoftlouis no no. I insist that you give me your best insult first',\n",
       "  '@Apple thanks for ios10 update, even the best app @telegram freezing and crashing on SE.',\n",
       "  \"#ahs6 every 5 minutes I've been saying 'nope nope I'd be gone by now.' 'MOVE' or 'GTFO' so thank you for the\",\n",
       "  \"i met with an employment specialist this morning &amp; she basically told me its unlikely i'll get a job because i clearly have too much anxiety\",\n",
       "  '@Gen_Ironicus Musicians have a superstitious dread of crossing highway 69, true story',\n",
       "  \"It's 5:55am. I'm hungry but there is no food. #panic\",\n",
       "  \"@viquintis OH yeah; I never showed you that part of the session did I? I'll plop them into Discord. Pure hilarity.\",\n",
       "  '@rosyIipH glee glee glee glee gLEE GLEE i LOST LOST LOST lowe much',\n",
       "  \"After soul searching, I'd like to announce that I've chosen @chrissyteigen &amp; @nicolerichie to be my adopted sisters due to their hilarity\",\n",
       "  'Just like there is a right way to pray, there is a right way to give - not grudgingly or of necessity, but cheerfully. #woficc',\n",
       "  'Synth backing tracks = sadness\\\\n#depresspop #dark #+++ #alt #fuckingmeup',\n",
       "  'My house isnt always a mess but when it is, its when i have friends coming #mess #serious #twitter #problem #like #friends #filthy #home',\n",
       "  \"If you love something, let it go. If it comes back, it is yours. If it doesn't, it never will. #sadness #accepting\",\n",
       "  '@Samkingftw nahh thats grim'])"
      ]
     },
     "metadata": {},
     "execution_count": 4
    }
   ],
   "source": [
    "trainloader, testloader = unified.get_dataloader('emoint')\n",
    "next(trainloader)"
   ]
  },
  {
   "cell_type": "code",
   "execution_count": 5,
   "metadata": {},
   "outputs": [
    {
     "output_type": "execute_result",
     "data": {
      "text/plain": [
       "([1, 1, 1, 1, 0, 0, 0, 0],\n",
       " [\".@THEVinceRusso How long till you hit @johnmellencamp's home in Bloomington, IN to duet #CrumblinDown forâ\\x80¦ https://t.co/FUlWhmyyoE\",\n",
       "  'RT @4everNeverTrump: @davidfrum Spicer lies. Spicer lies. Spicer lies.',\n",
       "  '@realDonaldTrump because your ego is so damaged that you NEED it. Campaign is over. #SAD',\n",
       "  \"@SamanthaAugeri. @SamanthaAugeri Hey Sam Augeri Happy international women's Day From Ralph ð\\x9f\\x98\\x80ð\\x9f\\x98\\x80â\\x9d¤â\\x9d¤â\\x9d¤â\\x9d¤â\\x9d¤\",\n",
       "  \"@StopTrump2020 like Trump, #Trumpcare is a #disaster If the @GOP passes it they're will be #riots #wewoke #theyaintfoolinus\",\n",
       "  'Stay positive  #saturdaymorning',\n",
       "  \"Alice's face thinking about the weather on Thursday. alicethatcj #smile #happy #fuji #fujifilmâ\\x80¦ https://t.co/k3Fu88D7OS\",\n",
       "  'Boom https://t.co/LHjH6Io6aE'])"
      ]
     },
     "metadata": {},
     "execution_count": 5
    }
   ],
   "source": [
    "trainloader, testloader = unified.get_dataloader('grounded_emotions', shuffle=True)\n",
    "next(trainloader)"
   ]
  },
  {
   "cell_type": "code",
   "execution_count": 6,
   "metadata": {},
   "outputs": [
    {
     "output_type": "execute_result",
     "data": {
      "text/plain": [
       "(tensor([1, 1, 1, 1, 0, 0, 0, 0]),\n",
       " tensor([[  101,   155,  1942,   137,   149, 15554,  2895, 16382, 22433,   131,\n",
       "            137, 10624,  2064,  9962,   137,   180, 13148,  8752,  3810,  1580,\n",
       "           1571,  1195,  1274,   112,   189,  1221,  1191,  1119,  1125,  1251,\n",
       "            107,  1842,  1948,   107,  2612,   108,  8499,  1281,   112,   189,\n",
       "           1836,  1117,  7538,   106,  1109,  1299,  1110,   170,   100,   102],\n",
       "         [  101,   137,  1842,  2137, 24059,  1181,  1942, 27321,   108, 13411,\n",
       "           2137,   119, 19293, 12507,  2162, 15531, 17056,  2137,   119,   108,\n",
       "           9468,  2737,  2138,   102,     0,     0,     0,     0,     0,     0,\n",
       "              0,     0,     0,     0,     0,     0,     0,     0,     0,     0,\n",
       "              0,     0,     0,     0,     0,     0,     0,     0,     0,     0],\n",
       "         [  101,  2421,   112,   188,  1208,  5663,  1240, 12616,   119,  1135,\n",
       "            112,   188, 16972,  2346,  1136, 16972,  1105,  1128,  1444,   170,\n",
       "           1669,  1170, 17702,   106,  2750,  1285,  1117,  9874,   100, 18630,\n",
       "            131,   120,   120,   189,   119,  1884,   120,   175,  4426, 11964,\n",
       "           1183,  1403,  3361,  1942,  1306,  1571,   102,     0,     0,     0],\n",
       "         [  101,   137,  5291,  2559,  1389,  2559,  6894,  1204,  1122,  1108,\n",
       "           1159,  1111,  5525,  1106,  1301,  1133,   146,   112,   182,  6100,\n",
       "           5529,  1140,   119,  1220,  1138,  1106,  1202,   170,  1554, 15596,\n",
       "           1208,   117,  1184,  1168,  6665,  1202,  1152,  1138,   136,   102,\n",
       "              0,     0,     0,     0,     0,     0,     0,     0,     0,     0],\n",
       "         [  101,   137, 11078,   168,   191, 25409,  1183,  1115,   112,   188,\n",
       "           1103,  1436,  2371,   102,     0,     0,     0,     0,     0,     0,\n",
       "              0,     0,     0,     0,     0,     0,     0,     0,     0,     0,\n",
       "              0,     0,     0,     0,     0,     0,     0,     0,     0,     0,\n",
       "              0,     0,     0,     0,     0,     0,     0,     0,     0,     0],\n",
       "         [  101, 11694, 14238, 28198,   200,   108,   178,  1477,  1182, 10973,\n",
       "          20324, 28198,   200,  2185,  2994,  2189,   248,   200,   108,  2117,\n",
       "           2162, 18122,   108,  1602, 22894,  1116,   108,   100, 18630,   131,\n",
       "            120,   120,   189,   119,  1884,   120,   161, 17670,  1377,  1643,\n",
       "          26390,  2064,  1643,  2036,   102,     0,     0,     0,     0,     0],\n",
       "         [  101,   137,  1842,  2137, 24059,  1181,  1942, 27321,  1191,  1128,\n",
       "           2059,  1115,   117,   146,  1138,   170,  2738,  1106,  4582,  1128,\n",
       "            119,   119,   119,   102,     0,     0,     0,     0,     0,     0,\n",
       "              0,     0,     0,     0,     0,     0,     0,     0,     0,     0,\n",
       "              0,     0,     0,     0,     0,     0,     0,     0,     0,     0],\n",
       "         [  101,   155,  1942,   137, 10768,  1592,  9238,  2069,  6851,  1181,\n",
       "            131,  8499,  1209,  1309,  1243,  1142,  1912,  1104,  1567,  1107,\n",
       "           1117,  9694, 17520,   119,  1262,  1122,  1538,  1198,  6790,  1140,\n",
       "           1146,   119, 18630,   131,   120,   120,   189,   119,  1884,   120,\n",
       "            145,  1775,  1658,  4060,  2924,  1377,  1475,  2591,  1643,   102]]),\n",
       " tensor([[1, 1, 1, 1, 1, 1, 1, 1, 1, 1, 1, 1, 1, 1, 1, 1, 1, 1, 1, 1, 1, 1, 1, 1,\n",
       "          1, 1, 1, 1, 1, 1, 1, 1, 1, 1, 1, 1, 1, 1, 1, 1, 1, 1, 1, 1, 1, 1, 1, 1,\n",
       "          1, 1],\n",
       "         [1, 1, 1, 1, 1, 1, 1, 1, 1, 1, 1, 1, 1, 1, 1, 1, 1, 1, 1, 1, 1, 1, 1, 1,\n",
       "          0, 0, 0, 0, 0, 0, 0, 0, 0, 0, 0, 0, 0, 0, 0, 0, 0, 0, 0, 0, 0, 0, 0, 0,\n",
       "          0, 0],\n",
       "         [1, 1, 1, 1, 1, 1, 1, 1, 1, 1, 1, 1, 1, 1, 1, 1, 1, 1, 1, 1, 1, 1, 1, 1,\n",
       "          1, 1, 1, 1, 1, 1, 1, 1, 1, 1, 1, 1, 1, 1, 1, 1, 1, 1, 1, 1, 1, 1, 1, 0,\n",
       "          0, 0],\n",
       "         [1, 1, 1, 1, 1, 1, 1, 1, 1, 1, 1, 1, 1, 1, 1, 1, 1, 1, 1, 1, 1, 1, 1, 1,\n",
       "          1, 1, 1, 1, 1, 1, 1, 1, 1, 1, 1, 1, 1, 1, 1, 1, 0, 0, 0, 0, 0, 0, 0, 0,\n",
       "          0, 0],\n",
       "         [1, 1, 1, 1, 1, 1, 1, 1, 1, 1, 1, 1, 1, 1, 0, 0, 0, 0, 0, 0, 0, 0, 0, 0,\n",
       "          0, 0, 0, 0, 0, 0, 0, 0, 0, 0, 0, 0, 0, 0, 0, 0, 0, 0, 0, 0, 0, 0, 0, 0,\n",
       "          0, 0],\n",
       "         [1, 1, 1, 1, 1, 1, 1, 1, 1, 1, 1, 1, 1, 1, 1, 1, 1, 1, 1, 1, 1, 1, 1, 1,\n",
       "          1, 1, 1, 1, 1, 1, 1, 1, 1, 1, 1, 1, 1, 1, 1, 1, 1, 1, 1, 1, 1, 0, 0, 0,\n",
       "          0, 0],\n",
       "         [1, 1, 1, 1, 1, 1, 1, 1, 1, 1, 1, 1, 1, 1, 1, 1, 1, 1, 1, 1, 1, 1, 1, 1,\n",
       "          0, 0, 0, 0, 0, 0, 0, 0, 0, 0, 0, 0, 0, 0, 0, 0, 0, 0, 0, 0, 0, 0, 0, 0,\n",
       "          0, 0],\n",
       "         [1, 1, 1, 1, 1, 1, 1, 1, 1, 1, 1, 1, 1, 1, 1, 1, 1, 1, 1, 1, 1, 1, 1, 1,\n",
       "          1, 1, 1, 1, 1, 1, 1, 1, 1, 1, 1, 1, 1, 1, 1, 1, 1, 1, 1, 1, 1, 1, 1, 1,\n",
       "          1, 1]]))"
      ]
     },
     "metadata": {},
     "execution_count": 6
    }
   ],
   "source": [
    "from transformers import AutoTokenizer\n",
    "tokenizer = AutoTokenizer.from_pretrained('bert-base-cased')\n",
    "\n",
    "trainloader, testloader = unified.get_dataloader('grounded_emotions', tokenizer=tokenizer, shuffle=True)\n",
    "next(trainloader)"
   ]
  },
  {
   "cell_type": "code",
   "execution_count": 7,
   "metadata": {},
   "outputs": [
    {
     "output_type": "execute_result",
     "data": {
      "text/plain": [
       "'tec'"
      ]
     },
     "metadata": {},
     "execution_count": 7
    }
   ],
   "source": [
    "from data.utils.sampling import dataset_sampler\n",
    "\n",
    "source_name = dataset_sampler(unified, sampling_method='sqrt')\n",
    "source_name"
   ]
  },
  {
   "cell_type": "code",
   "execution_count": 8,
   "metadata": {},
   "outputs": [
    {
     "output_type": "error",
     "ename": "StopIteration",
     "evalue": "Some classes ran out of data.",
     "traceback": [
      "\u001b[1;31m---------------------------------------------------------------------------\u001b[0m",
      "\u001b[1;31mStopIteration\u001b[0m                             Traceback (most recent call last)",
      "\u001b[1;32m<ipython-input-8-d0eaab77853c>\u001b[0m in \u001b[0;36m<module>\u001b[1;34m\u001b[0m\n\u001b[0;32m      1\u001b[0m \u001b[1;31m# Raises StopIteration when there is not enough data left to generate an N x K shot\u001b[0m\u001b[1;33m\u001b[0m\u001b[1;33m\u001b[0m\u001b[1;33m\u001b[0m\u001b[0m\n\u001b[0;32m      2\u001b[0m \u001b[1;32mwhile\u001b[0m \u001b[1;32mTrue\u001b[0m\u001b[1;33m:\u001b[0m\u001b[1;33m\u001b[0m\u001b[1;33m\u001b[0m\u001b[0m\n\u001b[1;32m----> 3\u001b[1;33m     \u001b[0mnext\u001b[0m\u001b[1;33m(\u001b[0m\u001b[0mtestloader\u001b[0m\u001b[1;33m)\u001b[0m\u001b[1;33m\u001b[0m\u001b[1;33m\u001b[0m\u001b[0m\n\u001b[0m",
      "\u001b[1;32mc:\\Users\\ivoon\\Documents\\GitHub\\meta-learning-emotion-detection\\data\\unified_emotion\\unified_stratified_loader.py\u001b[0m in \u001b[0;36m__next__\u001b[1;34m(self)\u001b[0m\n\u001b[0;32m     47\u001b[0m \u001b[1;33m\u001b[0m\u001b[0m\n\u001b[0;32m     48\u001b[0m         \u001b[1;32mif\u001b[0m \u001b[1;32mnot\u001b[0m \u001b[0mall\u001b[0m\u001b[1;33m(\u001b[0m\u001b[1;33m[\u001b[0m\u001b[0ml\u001b[0m \u001b[1;33m>\u001b[0m \u001b[0mself\u001b[0m\u001b[1;33m.\u001b[0m\u001b[0mk\u001b[0m \u001b[1;32mfor\u001b[0m \u001b[0ml\u001b[0m \u001b[1;32min\u001b[0m \u001b[0mself\u001b[0m\u001b[1;33m.\u001b[0m\u001b[0mlens\u001b[0m\u001b[1;33m(\u001b[0m\u001b[1;33m)\u001b[0m\u001b[1;33m]\u001b[0m\u001b[1;33m)\u001b[0m\u001b[1;33m:\u001b[0m\u001b[1;33m\u001b[0m\u001b[1;33m\u001b[0m\u001b[0m\n\u001b[1;32m---> 49\u001b[1;33m             \u001b[1;32mraise\u001b[0m \u001b[0mStopIteration\u001b[0m\u001b[1;33m(\u001b[0m\u001b[1;34m\"Some classes ran out of data.\"\u001b[0m\u001b[1;33m)\u001b[0m\u001b[1;33m\u001b[0m\u001b[1;33m\u001b[0m\u001b[0m\n\u001b[0m\u001b[0;32m     50\u001b[0m \u001b[1;33m\u001b[0m\u001b[0m\n\u001b[0;32m     51\u001b[0m         \u001b[0mtext\u001b[0m \u001b[1;33m=\u001b[0m \u001b[1;33m[\u001b[0m\u001b[1;33m]\u001b[0m\u001b[1;33m\u001b[0m\u001b[1;33m\u001b[0m\u001b[0m\n",
      "\u001b[1;31mStopIteration\u001b[0m: Some classes ran out of data."
     ]
    }
   ],
   "source": [
    "# Raises StopIteration when there is not enough data left to generate an N x K shot\n",
    "while True:\n",
    "    next(testloader)"
   ]
  }
 ]
}